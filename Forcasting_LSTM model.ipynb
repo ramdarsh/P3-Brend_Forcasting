{
 "cells": [
  {
   "cell_type": "code",
   "execution_count": 1,
   "metadata": {
    "id": "GLXK7JjFi6Ax"
   },
   "outputs": [],
   "source": [
    "import numpy as np\n",
    "import pandas as pd\n",
    "import matplotlib.pyplot as plt\n",
    "import seaborn as sns\n",
    "%matplotlib inline"
   ]
  },
  {
   "cell_type": "code",
   "execution_count": 2,
   "metadata": {
    "colab": {
     "base_uri": "https://localhost:8080/",
     "height": 206
    },
    "id": "6bD6xPN_i6ER",
    "outputId": "379fb07b-cf8d-43fb-a72f-84d245e410e8"
   },
   "outputs": [
    {
     "data": {
      "text/html": [
       "<div>\n",
       "<style scoped>\n",
       "    .dataframe tbody tr th:only-of-type {\n",
       "        vertical-align: middle;\n",
       "    }\n",
       "\n",
       "    .dataframe tbody tr th {\n",
       "        vertical-align: top;\n",
       "    }\n",
       "\n",
       "    .dataframe thead th {\n",
       "        text-align: right;\n",
       "    }\n",
       "</style>\n",
       "<table border=\"1\" class=\"dataframe\">\n",
       "  <thead>\n",
       "    <tr style=\"text-align: right;\">\n",
       "      <th></th>\n",
       "      <th>DATE</th>\n",
       "      <th>DCOILBRENTEU</th>\n",
       "    </tr>\n",
       "  </thead>\n",
       "  <tbody>\n",
       "    <tr>\n",
       "      <th>0</th>\n",
       "      <td>1987-05-20</td>\n",
       "      <td>18.63</td>\n",
       "    </tr>\n",
       "    <tr>\n",
       "      <th>1</th>\n",
       "      <td>1987-05-21</td>\n",
       "      <td>18.45</td>\n",
       "    </tr>\n",
       "    <tr>\n",
       "      <th>2</th>\n",
       "      <td>1987-05-22</td>\n",
       "      <td>18.55</td>\n",
       "    </tr>\n",
       "    <tr>\n",
       "      <th>3</th>\n",
       "      <td>1987-05-25</td>\n",
       "      <td>18.60</td>\n",
       "    </tr>\n",
       "    <tr>\n",
       "      <th>4</th>\n",
       "      <td>1987-05-26</td>\n",
       "      <td>18.63</td>\n",
       "    </tr>\n",
       "  </tbody>\n",
       "</table>\n",
       "</div>"
      ],
      "text/plain": [
       "         DATE DCOILBRENTEU\n",
       "0  1987-05-20        18.63\n",
       "1  1987-05-21        18.45\n",
       "2  1987-05-22        18.55\n",
       "3  1987-05-25        18.60\n",
       "4  1987-05-26        18.63"
      ]
     },
     "execution_count": 2,
     "metadata": {},
     "output_type": "execute_result"
    }
   ],
   "source": [
    "df = pd.read_csv('DCOILBRENTEU.csv')\n",
    "df.head()"
   ]
  },
  {
   "cell_type": "code",
   "execution_count": 3,
   "metadata": {
    "colab": {
     "base_uri": "https://localhost:8080/"
    },
    "id": "uw675BFUkLsp",
    "outputId": "b91681a4-f7bd-420e-d448-91beeaf538e5"
   },
   "outputs": [
    {
     "name": "stdout",
     "output_type": "stream",
     "text": [
      "<class 'pandas.core.frame.DataFrame'>\n",
      "RangeIndex: 9524 entries, 0 to 9523\n",
      "Data columns (total 2 columns):\n",
      " #   Column        Non-Null Count  Dtype \n",
      "---  ------        --------------  ----- \n",
      " 0   DATE          9524 non-null   object\n",
      " 1   DCOILBRENTEU  9524 non-null   object\n",
      "dtypes: object(2)\n",
      "memory usage: 148.9+ KB\n"
     ]
    }
   ],
   "source": [
    "df.info()"
   ]
  },
  {
   "cell_type": "code",
   "execution_count": 4,
   "metadata": {
    "colab": {
     "base_uri": "https://localhost:8080/",
     "height": 174
    },
    "id": "m7MnuETu3I-m",
    "outputId": "2e111a99-a837-4a7b-d44b-95d16a38a981"
   },
   "outputs": [
    {
     "data": {
      "text/html": [
       "<div>\n",
       "<style scoped>\n",
       "    .dataframe tbody tr th:only-of-type {\n",
       "        vertical-align: middle;\n",
       "    }\n",
       "\n",
       "    .dataframe tbody tr th {\n",
       "        vertical-align: top;\n",
       "    }\n",
       "\n",
       "    .dataframe thead th {\n",
       "        text-align: right;\n",
       "    }\n",
       "</style>\n",
       "<table border=\"1\" class=\"dataframe\">\n",
       "  <thead>\n",
       "    <tr style=\"text-align: right;\">\n",
       "      <th></th>\n",
       "      <th>DATE</th>\n",
       "      <th>DCOILBRENTEU</th>\n",
       "    </tr>\n",
       "  </thead>\n",
       "  <tbody>\n",
       "    <tr>\n",
       "      <th>count</th>\n",
       "      <td>9524</td>\n",
       "      <td>9524</td>\n",
       "    </tr>\n",
       "    <tr>\n",
       "      <th>unique</th>\n",
       "      <td>9524</td>\n",
       "      <td>5243</td>\n",
       "    </tr>\n",
       "    <tr>\n",
       "      <th>top</th>\n",
       "      <td>1987-05-20</td>\n",
       "      <td>.</td>\n",
       "    </tr>\n",
       "    <tr>\n",
       "      <th>freq</th>\n",
       "      <td>1</td>\n",
       "      <td>259</td>\n",
       "    </tr>\n",
       "  </tbody>\n",
       "</table>\n",
       "</div>"
      ],
      "text/plain": [
       "              DATE DCOILBRENTEU\n",
       "count         9524         9524\n",
       "unique        9524         5243\n",
       "top     1987-05-20            .\n",
       "freq             1          259"
      ]
     },
     "execution_count": 4,
     "metadata": {},
     "output_type": "execute_result"
    }
   ],
   "source": [
    "df.describe()"
   ]
  },
  {
   "cell_type": "code",
   "execution_count": 5,
   "metadata": {
    "colab": {
     "base_uri": "https://localhost:8080/",
     "height": 206
    },
    "id": "Zz_W-3pRFjw3",
    "outputId": "450f4021-4ac2-44f2-b4ce-678308549adc"
   },
   "outputs": [
    {
     "data": {
      "text/html": [
       "<div>\n",
       "<style scoped>\n",
       "    .dataframe tbody tr th:only-of-type {\n",
       "        vertical-align: middle;\n",
       "    }\n",
       "\n",
       "    .dataframe tbody tr th {\n",
       "        vertical-align: top;\n",
       "    }\n",
       "\n",
       "    .dataframe thead th {\n",
       "        text-align: right;\n",
       "    }\n",
       "</style>\n",
       "<table border=\"1\" class=\"dataframe\">\n",
       "  <thead>\n",
       "    <tr style=\"text-align: right;\">\n",
       "      <th></th>\n",
       "      <th>DATE</th>\n",
       "      <th>DCOILBRENTEU</th>\n",
       "    </tr>\n",
       "  </thead>\n",
       "  <tbody>\n",
       "    <tr>\n",
       "      <th>9519</th>\n",
       "      <td>2023-11-14</td>\n",
       "      <td>84.2</td>\n",
       "    </tr>\n",
       "    <tr>\n",
       "      <th>9520</th>\n",
       "      <td>2023-11-15</td>\n",
       "      <td>82.4</td>\n",
       "    </tr>\n",
       "    <tr>\n",
       "      <th>9521</th>\n",
       "      <td>2023-11-16</td>\n",
       "      <td>77.73</td>\n",
       "    </tr>\n",
       "    <tr>\n",
       "      <th>9522</th>\n",
       "      <td>2023-11-17</td>\n",
       "      <td>81.22</td>\n",
       "    </tr>\n",
       "    <tr>\n",
       "      <th>9523</th>\n",
       "      <td>2023-11-20</td>\n",
       "      <td>83.25</td>\n",
       "    </tr>\n",
       "  </tbody>\n",
       "</table>\n",
       "</div>"
      ],
      "text/plain": [
       "            DATE DCOILBRENTEU\n",
       "9519  2023-11-14         84.2\n",
       "9520  2023-11-15         82.4\n",
       "9521  2023-11-16        77.73\n",
       "9522  2023-11-17        81.22\n",
       "9523  2023-11-20        83.25"
      ]
     },
     "execution_count": 5,
     "metadata": {},
     "output_type": "execute_result"
    }
   ],
   "source": [
    "df.tail()"
   ]
  },
  {
   "cell_type": "code",
   "execution_count": 6,
   "metadata": {
    "colab": {
     "base_uri": "https://localhost:8080/",
     "height": 206
    },
    "id": "k5ZumLZIFjzN",
    "outputId": "1a9d2e8c-40d4-4716-d5be-af7455aaa65a"
   },
   "outputs": [
    {
     "data": {
      "text/html": [
       "<div>\n",
       "<style scoped>\n",
       "    .dataframe tbody tr th:only-of-type {\n",
       "        vertical-align: middle;\n",
       "    }\n",
       "\n",
       "    .dataframe tbody tr th {\n",
       "        vertical-align: top;\n",
       "    }\n",
       "\n",
       "    .dataframe thead th {\n",
       "        text-align: right;\n",
       "    }\n",
       "</style>\n",
       "<table border=\"1\" class=\"dataframe\">\n",
       "  <thead>\n",
       "    <tr style=\"text-align: right;\">\n",
       "      <th></th>\n",
       "      <th>Date</th>\n",
       "      <th>Value</th>\n",
       "    </tr>\n",
       "  </thead>\n",
       "  <tbody>\n",
       "    <tr>\n",
       "      <th>0</th>\n",
       "      <td>1987-05-20</td>\n",
       "      <td>18.63</td>\n",
       "    </tr>\n",
       "    <tr>\n",
       "      <th>1</th>\n",
       "      <td>1987-05-21</td>\n",
       "      <td>18.45</td>\n",
       "    </tr>\n",
       "    <tr>\n",
       "      <th>2</th>\n",
       "      <td>1987-05-22</td>\n",
       "      <td>18.55</td>\n",
       "    </tr>\n",
       "    <tr>\n",
       "      <th>3</th>\n",
       "      <td>1987-05-25</td>\n",
       "      <td>18.60</td>\n",
       "    </tr>\n",
       "    <tr>\n",
       "      <th>4</th>\n",
       "      <td>1987-05-26</td>\n",
       "      <td>18.63</td>\n",
       "    </tr>\n",
       "  </tbody>\n",
       "</table>\n",
       "</div>"
      ],
      "text/plain": [
       "         Date  Value\n",
       "0  1987-05-20  18.63\n",
       "1  1987-05-21  18.45\n",
       "2  1987-05-22  18.55\n",
       "3  1987-05-25  18.60\n",
       "4  1987-05-26  18.63"
      ]
     },
     "execution_count": 6,
     "metadata": {},
     "output_type": "execute_result"
    }
   ],
   "source": [
    "df.columns=['Date','Value']\n",
    "df.head()"
   ]
  },
  {
   "cell_type": "code",
   "execution_count": 7,
   "metadata": {
    "id": "D54QYla1Fj1R"
   },
   "outputs": [],
   "source": [
    "df['Value'] = df['Value'].replace('.', method='pad')\n",
    "df['Value'] = df['Value'].replace('NaN', method='pad')"
   ]
  },
  {
   "cell_type": "code",
   "execution_count": 8,
   "metadata": {
    "id": "ZFPv39EUFj4e"
   },
   "outputs": [],
   "source": [
    "df['Value']=df['Value'].astype('float')"
   ]
  },
  {
   "cell_type": "code",
   "execution_count": 9,
   "metadata": {
    "id": "1apmdQunFj8C"
   },
   "outputs": [],
   "source": [
    "df['Date']=pd.to_datetime(df['Date'])"
   ]
  },
  {
   "cell_type": "code",
   "execution_count": 10,
   "metadata": {
    "colab": {
     "base_uri": "https://localhost:8080/",
     "height": 206
    },
    "id": "8-jb-KX9ILkd",
    "outputId": "551cd97a-0244-4b4c-be7c-fc7fb80fb051"
   },
   "outputs": [
    {
     "data": {
      "text/html": [
       "<div>\n",
       "<style scoped>\n",
       "    .dataframe tbody tr th:only-of-type {\n",
       "        vertical-align: middle;\n",
       "    }\n",
       "\n",
       "    .dataframe tbody tr th {\n",
       "        vertical-align: top;\n",
       "    }\n",
       "\n",
       "    .dataframe thead th {\n",
       "        text-align: right;\n",
       "    }\n",
       "</style>\n",
       "<table border=\"1\" class=\"dataframe\">\n",
       "  <thead>\n",
       "    <tr style=\"text-align: right;\">\n",
       "      <th></th>\n",
       "      <th>Date</th>\n",
       "      <th>Value</th>\n",
       "    </tr>\n",
       "  </thead>\n",
       "  <tbody>\n",
       "    <tr>\n",
       "      <th>0</th>\n",
       "      <td>1987-05-20</td>\n",
       "      <td>18.63</td>\n",
       "    </tr>\n",
       "    <tr>\n",
       "      <th>1</th>\n",
       "      <td>1987-05-21</td>\n",
       "      <td>18.45</td>\n",
       "    </tr>\n",
       "    <tr>\n",
       "      <th>2</th>\n",
       "      <td>1987-05-22</td>\n",
       "      <td>18.55</td>\n",
       "    </tr>\n",
       "    <tr>\n",
       "      <th>3</th>\n",
       "      <td>1987-05-25</td>\n",
       "      <td>18.60</td>\n",
       "    </tr>\n",
       "    <tr>\n",
       "      <th>4</th>\n",
       "      <td>1987-05-26</td>\n",
       "      <td>18.63</td>\n",
       "    </tr>\n",
       "  </tbody>\n",
       "</table>\n",
       "</div>"
      ],
      "text/plain": [
       "        Date  Value\n",
       "0 1987-05-20  18.63\n",
       "1 1987-05-21  18.45\n",
       "2 1987-05-22  18.55\n",
       "3 1987-05-25  18.60\n",
       "4 1987-05-26  18.63"
      ]
     },
     "execution_count": 10,
     "metadata": {},
     "output_type": "execute_result"
    }
   ],
   "source": [
    "df.head()"
   ]
  },
  {
   "cell_type": "code",
   "execution_count": 11,
   "metadata": {
    "id": "ogya9g6YIQrQ"
   },
   "outputs": [],
   "source": [
    "df.set_index('Date',inplace=True)"
   ]
  },
  {
   "cell_type": "code",
   "execution_count": 12,
   "metadata": {
    "colab": {
     "base_uri": "https://localhost:8080/",
     "height": 237
    },
    "id": "NoCmXRmvIQtQ",
    "outputId": "87e0bd04-b3c6-4bd4-d64f-3085c5adc6e2"
   },
   "outputs": [
    {
     "data": {
      "text/html": [
       "<div>\n",
       "<style scoped>\n",
       "    .dataframe tbody tr th:only-of-type {\n",
       "        vertical-align: middle;\n",
       "    }\n",
       "\n",
       "    .dataframe tbody tr th {\n",
       "        vertical-align: top;\n",
       "    }\n",
       "\n",
       "    .dataframe thead th {\n",
       "        text-align: right;\n",
       "    }\n",
       "</style>\n",
       "<table border=\"1\" class=\"dataframe\">\n",
       "  <thead>\n",
       "    <tr style=\"text-align: right;\">\n",
       "      <th></th>\n",
       "      <th>Value</th>\n",
       "    </tr>\n",
       "    <tr>\n",
       "      <th>Date</th>\n",
       "      <th></th>\n",
       "    </tr>\n",
       "  </thead>\n",
       "  <tbody>\n",
       "    <tr>\n",
       "      <th>1987-05-20</th>\n",
       "      <td>18.63</td>\n",
       "    </tr>\n",
       "    <tr>\n",
       "      <th>1987-05-21</th>\n",
       "      <td>18.45</td>\n",
       "    </tr>\n",
       "    <tr>\n",
       "      <th>1987-05-22</th>\n",
       "      <td>18.55</td>\n",
       "    </tr>\n",
       "    <tr>\n",
       "      <th>1987-05-25</th>\n",
       "      <td>18.60</td>\n",
       "    </tr>\n",
       "    <tr>\n",
       "      <th>1987-05-26</th>\n",
       "      <td>18.63</td>\n",
       "    </tr>\n",
       "  </tbody>\n",
       "</table>\n",
       "</div>"
      ],
      "text/plain": [
       "            Value\n",
       "Date             \n",
       "1987-05-20  18.63\n",
       "1987-05-21  18.45\n",
       "1987-05-22  18.55\n",
       "1987-05-25  18.60\n",
       "1987-05-26  18.63"
      ]
     },
     "execution_count": 12,
     "metadata": {},
     "output_type": "execute_result"
    }
   ],
   "source": [
    "df.head()"
   ]
  },
  {
   "cell_type": "code",
   "execution_count": 13,
   "metadata": {
    "colab": {
     "base_uri": "https://localhost:8080/",
     "height": 300
    },
    "id": "Kw_IT5pJIe-Z",
    "outputId": "e6b1218e-3c88-4df3-a593-dbd73136cb38"
   },
   "outputs": [
    {
     "data": {
      "text/html": [
       "<div>\n",
       "<style scoped>\n",
       "    .dataframe tbody tr th:only-of-type {\n",
       "        vertical-align: middle;\n",
       "    }\n",
       "\n",
       "    .dataframe tbody tr th {\n",
       "        vertical-align: top;\n",
       "    }\n",
       "\n",
       "    .dataframe thead th {\n",
       "        text-align: right;\n",
       "    }\n",
       "</style>\n",
       "<table border=\"1\" class=\"dataframe\">\n",
       "  <thead>\n",
       "    <tr style=\"text-align: right;\">\n",
       "      <th></th>\n",
       "      <th>Value</th>\n",
       "    </tr>\n",
       "  </thead>\n",
       "  <tbody>\n",
       "    <tr>\n",
       "      <th>count</th>\n",
       "      <td>9524.000000</td>\n",
       "    </tr>\n",
       "    <tr>\n",
       "      <th>mean</th>\n",
       "      <td>49.470877</td>\n",
       "    </tr>\n",
       "    <tr>\n",
       "      <th>std</th>\n",
       "      <td>33.018567</td>\n",
       "    </tr>\n",
       "    <tr>\n",
       "      <th>min</th>\n",
       "      <td>9.100000</td>\n",
       "    </tr>\n",
       "    <tr>\n",
       "      <th>25%</th>\n",
       "      <td>19.187500</td>\n",
       "    </tr>\n",
       "    <tr>\n",
       "      <th>50%</th>\n",
       "      <td>41.445000</td>\n",
       "    </tr>\n",
       "    <tr>\n",
       "      <th>75%</th>\n",
       "      <td>72.900000</td>\n",
       "    </tr>\n",
       "    <tr>\n",
       "      <th>max</th>\n",
       "      <td>143.950000</td>\n",
       "    </tr>\n",
       "  </tbody>\n",
       "</table>\n",
       "</div>"
      ],
      "text/plain": [
       "             Value\n",
       "count  9524.000000\n",
       "mean     49.470877\n",
       "std      33.018567\n",
       "min       9.100000\n",
       "25%      19.187500\n",
       "50%      41.445000\n",
       "75%      72.900000\n",
       "max     143.950000"
      ]
     },
     "execution_count": 13,
     "metadata": {},
     "output_type": "execute_result"
    }
   ],
   "source": [
    "df.describe()"
   ]
  },
  {
   "cell_type": "code",
   "execution_count": 14,
   "metadata": {
    "colab": {
     "base_uri": "https://localhost:8080/",
     "height": 466
    },
    "id": "fs08-XsYIfAl",
    "outputId": "6fa81b07-4d53-4056-e4bf-cff2fdacaeaa"
   },
   "outputs": [
    {
     "data": {
      "text/plain": [
       "<Axes: xlabel='Date'>"
      ]
     },
     "execution_count": 14,
     "metadata": {},
     "output_type": "execute_result"
    },
    {
     "data": {
      "image/png": "[encoded data removed]",
      "text/plain": [
       "<Figure size 1500x700 with 1 Axes>"
      ]
     },
     "metadata": {},
     "output_type": "display_data"
    }
   ],
   "source": [
    "df.plot(figsize = (15,7))"
   ]
  },
  {
   "cell_type": "code",
   "execution_count": 15,
   "metadata": {},
   "outputs": [],
   "source": [
    "df1 = df.reset_index()['Value']"
   ]
  },
  {
   "cell_type": "code",
   "execution_count": 16,
   "metadata": {},
   "outputs": [
    {
     "data": {
      "text/plain": [
       "0       18.63\n",
       "1       18.45\n",
       "2       18.55\n",
       "3       18.60\n",
       "4       18.63\n",
       "        ...  \n",
       "9519    84.20\n",
       "9520    82.40\n",
       "9521    77.73\n",
       "9522    81.22\n",
       "9523    83.25\n",
       "Name: Value, Length: 9524, dtype: float64"
      ]
     },
     "execution_count": 16,
     "metadata": {},
     "output_type": "execute_result"
    }
   ],
   "source": [
    "df1"
   ]
  },
  {
   "cell_type": "code",
   "execution_count": 17,
   "metadata": {},
   "outputs": [],
   "source": [
    "#Scaling data\n",
    "from sklearn.preprocessing import StandardScaler\n",
    "scaler = StandardScaler()\n",
    "df1 = scaler.fit_transform(np.array(df1).reshape(-1,1))"
   ]
  },
  {
   "cell_type": "code",
   "execution_count": 18,
   "metadata": {},
   "outputs": [
    {
     "data": {
      "text/plain": [
       "(9524, 1)"
      ]
     },
     "execution_count": 18,
     "metadata": {},
     "output_type": "execute_result"
    }
   ],
   "source": [
    "df1.shape"
   ]
  },
  {
   "cell_type": "code",
   "execution_count": 19,
   "metadata": {},
   "outputs": [
    {
     "data": {
      "text/plain": [
       "array([[-0.93409553],\n",
       "       [-0.9395473 ],\n",
       "       [-0.93651854],\n",
       "       ...,\n",
       "       [ 0.85590047],\n",
       "       [ 0.96160412],\n",
       "       [ 1.02308791]])"
      ]
     },
     "execution_count": 19,
     "metadata": {},
     "output_type": "execute_result"
    }
   ],
   "source": [
    "df1"
   ]
  },
  {
   "cell_type": "code",
   "execution_count": 20,
   "metadata": {},
   "outputs": [
    {
     "data": {
      "text/plain": [
       "[<matplotlib.lines.Line2D at 0x2915cc29050>]"
      ]
     },
     "execution_count": 20,
     "metadata": {},
     "output_type": "execute_result"
    },
    {
     "data": {
      "image/png": "[encoded data removed]",
      "text/plain": [
       "<Figure size 1500x700 with 1 Axes>"
      ]
     },
     "metadata": {},
     "output_type": "display_data"
    }
   ],
   "source": [
    "plt.figure(figsize=(15,7))\n",
    "plt.plot(df.index,df1)"
   ]
  },
  {
   "cell_type": "code",
   "execution_count": 29,
   "metadata": {},
   "outputs": [
    {
     "name": "stdout",
     "output_type": "stream",
     "text": [
      "Enter window size: 100\n"
     ]
    }
   ],
   "source": [
    "w = int(input('Enter window size: '))"
   ]
  },
  {
   "cell_type": "code",
   "execution_count": 30,
   "metadata": {},
   "outputs": [],
   "source": [
    "training_size = int(len(df1)*0.96)\n",
    "test_size = len(df1) - training_size\n",
    "train_data,test_data = df1[0:training_size+w,:],df1[training_size:len(df1),:1]"
   ]
  },
  {
   "cell_type": "code",
   "execution_count": 31,
   "metadata": {},
   "outputs": [
    {
     "data": {
      "text/plain": [
       "((9243, 1), (381, 1))"
      ]
     },
     "execution_count": 31,
     "metadata": {},
     "output_type": "execute_result"
    }
   ],
   "source": [
    "train_data.shape, test_data.shape"
   ]
  },
  {
   "cell_type": "code",
   "execution_count": 32,
   "metadata": {},
   "outputs": [
    {
     "data": {
      "text/plain": [
       "[<matplotlib.lines.Line2D at 0x29161bcddd0>]"
      ]
     },
     "execution_count": 32,
     "metadata": {},
     "output_type": "execute_result"
    },
    {
     "data": {
      "image/png": "[encoded data removed]",
      "text/plain": [
       "<Figure size 640x480 with 1 Axes>"
      ]
     },
     "metadata": {},
     "output_type": "display_data"
    }
   ],
   "source": [
    "plt.plot(df.index[:training_size+100],train_data)"
   ]
  },
  {
   "cell_type": "code",
   "execution_count": 33,
   "metadata": {},
   "outputs": [],
   "source": [
    "def create_dataset(dataset,time_step = 1):\n",
    "    \n",
    "    dataX, dataY = [],[]\n",
    "    \n",
    "    for i in range(len(dataset) - time_step):\n",
    "        \n",
    "        a = dataset[i:(i+time_step),0]\n",
    "        \n",
    "        dataX.append(a)\n",
    "        \n",
    "        dataY.append(dataset[i+time_step,0])\n",
    "        \n",
    "    return np.array(dataX), np.array(dataY)"
   ]
  },
  {
   "cell_type": "code",
   "execution_count": 34,
   "metadata": {},
   "outputs": [],
   "source": [
    "time_step = w\n",
    "#using 100 consecutive values predicting 101th value\n",
    "\n",
    "X_train, y_train = create_dataset(train_data,time_step)\n",
    "X_test, y_test = create_dataset(test_data,time_step)"
   ]
  },
  {
   "cell_type": "code",
   "execution_count": 35,
   "metadata": {},
   "outputs": [
    {
     "data": {
      "text/plain": [
       "((9143, 100), (281, 100))"
      ]
     },
     "execution_count": 35,
     "metadata": {},
     "output_type": "execute_result"
    }
   ],
   "source": [
    "X_train.shape,X_test.shape"
   ]
  },
  {
   "cell_type": "code",
   "execution_count": 36,
   "metadata": {},
   "outputs": [],
   "source": [
    "#making data 3d\n",
    "X_train = X_train.reshape(X_train.shape[0],X_train.shape[1],1)\n",
    "X_test = X_test.reshape(X_test.shape[0],X_test.shape[1],1)"
   ]
  },
  {
   "cell_type": "code",
   "execution_count": 37,
   "metadata": {},
   "outputs": [
    {
     "data": {
      "text/plain": [
       "((9143, 100, 1), (281, 100, 1))"
      ]
     },
     "execution_count": 37,
     "metadata": {},
     "output_type": "execute_result"
    }
   ],
   "source": [
    "X_train.shape,X_test.shape"
   ]
  },
  {
   "cell_type": "code",
   "execution_count": 38,
   "metadata": {},
   "outputs": [
    {
     "name": "stdout",
     "output_type": "stream",
     "text": [
      "Requirement already satisfied: tensorflow in c:\\users\\ramda\\anaconda3\\lib\\site-packages (2.15.0)\n",
      "Requirement already satisfied: tensorflow-intel==2.15.0 in c:\\users\\ramda\\anaconda3\\lib\\site-packages (from tensorflow) (2.15.0)\n",
      "Requirement already satisfied: absl-py>=1.0.0 in c:\\users\\ramda\\anaconda3\\lib\\site-packages (from tensorflow-intel==2.15.0->tensorflow) (2.0.0)\n",
      "Requirement already satisfied: astunparse>=1.6.0 in c:\\users\\ramda\\anaconda3\\lib\\site-packages (from tensorflow-intel==2.15.0->tensorflow) (1.6.3)\n",
      "Requirement already satisfied: flatbuffers>=23.5.26 in c:\\users\\ramda\\anaconda3\\lib\\site-packages (from tensorflow-intel==2.15.0->tensorflow) (23.5.26)\n",
      "Requirement already satisfied: gast!=0.5.0,!=0.5.1,!=0.5.2,>=0.2.1 in c:\\users\\ramda\\anaconda3\\lib\\site-packages (from tensorflow-intel==2.15.0->tensorflow) (0.5.4)\n",
      "Requirement already satisfied: google-pasta>=0.1.1 in c:\\users\\ramda\\anaconda3\\lib\\site-packages (from tensorflow-intel==2.15.0->tensorflow) (0.2.0)\n",
      "Requirement already satisfied: h5py>=2.9.0 in c:\\users\\ramda\\anaconda3\\lib\\site-packages (from tensorflow-intel==2.15.0->tensorflow) (3.7.0)\n",
      "Requirement already satisfied: libclang>=13.0.0 in c:\\users\\ramda\\anaconda3\\lib\\site-packages (from tensorflow-intel==2.15.0->tensorflow) (16.0.6)\n",
      "Requirement already satisfied: ml-dtypes~=0.2.0 in c:\\users\\ramda\\anaconda3\\lib\\site-packages (from tensorflow-intel==2.15.0->tensorflow) (0.2.0)\n",
      "Requirement already satisfied: numpy<2.0.0,>=1.23.5 in c:\\users\\ramda\\anaconda3\\lib\\site-packages (from tensorflow-intel==2.15.0->tensorflow) (1.24.3)\n",
      "Requirement already satisfied: opt-einsum>=2.3.2 in c:\\users\\ramda\\anaconda3\\lib\\site-packages (from tensorflow-intel==2.15.0->tensorflow) (3.3.0)\n",
      "Requirement already satisfied: packaging in c:\\users\\ramda\\anaconda3\\lib\\site-packages (from tensorflow-intel==2.15.0->tensorflow) (23.0)\n",
      "Requirement already satisfied: protobuf!=4.21.0,!=4.21.1,!=4.21.2,!=4.21.3,!=4.21.4,!=4.21.5,<5.0.0dev,>=3.20.3 in c:\\users\\ramda\\anaconda3\\lib\\site-packages (from tensorflow-intel==2.15.0->tensorflow) (4.23.4)\n",
      "Requirement already satisfied: setuptools in c:\\users\\ramda\\anaconda3\\lib\\site-packages (from tensorflow-intel==2.15.0->tensorflow) (68.0.0)\n",
      "Requirement already satisfied: six>=1.12.0 in c:\\users\\ramda\\anaconda3\\lib\\site-packages (from tensorflow-intel==2.15.0->tensorflow) (1.16.0)\n",
      "Requirement already satisfied: termcolor>=1.1.0 in c:\\users\\ramda\\anaconda3\\lib\\site-packages (from tensorflow-intel==2.15.0->tensorflow) (2.3.0)\n",
      "Requirement already satisfied: typing-extensions>=3.6.6 in c:\\users\\ramda\\anaconda3\\lib\\site-packages (from tensorflow-intel==2.15.0->tensorflow) (4.7.1)\n",
      "Requirement already satisfied: wrapt<1.15,>=1.11.0 in c:\\users\\ramda\\anaconda3\\lib\\site-packages (from tensorflow-intel==2.15.0->tensorflow) (1.14.1)\n",
      "Requirement already satisfied: tensorflow-io-gcs-filesystem>=0.23.1 in c:\\users\\ramda\\anaconda3\\lib\\site-packages (from tensorflow-intel==2.15.0->tensorflow) (0.31.0)\n",
      "Requirement already satisfied: grpcio<2.0,>=1.24.3 in c:\\users\\ramda\\anaconda3\\lib\\site-packages (from tensorflow-intel==2.15.0->tensorflow) (1.59.3)\n",
      "Requirement already satisfied: tensorboard<2.16,>=2.15 in c:\\users\\ramda\\anaconda3\\lib\\site-packages (from tensorflow-intel==2.15.0->tensorflow) (2.15.1)\n",
      "Requirement already satisfied: tensorflow-estimator<2.16,>=2.15.0 in c:\\users\\ramda\\anaconda3\\lib\\site-packages (from tensorflow-intel==2.15.0->tensorflow) (2.15.0)\n",
      "Requirement already satisfied: keras<2.16,>=2.15.0 in c:\\users\\ramda\\anaconda3\\lib\\site-packages (from tensorflow-intel==2.15.0->tensorflow) (2.15.0)\n",
      "Requirement already satisfied: wheel<1.0,>=0.23.0 in c:\\users\\ramda\\anaconda3\\lib\\site-packages (from astunparse>=1.6.0->tensorflow-intel==2.15.0->tensorflow) (0.38.4)\n",
      "Requirement already satisfied: google-auth<3,>=1.6.3 in c:\\users\\ramda\\anaconda3\\lib\\site-packages (from tensorboard<2.16,>=2.15->tensorflow-intel==2.15.0->tensorflow) (2.23.4)\n",
      "Requirement already satisfied: google-auth-oauthlib<2,>=0.5 in c:\\users\\ramda\\anaconda3\\lib\\site-packages (from tensorboard<2.16,>=2.15->tensorflow-intel==2.15.0->tensorflow) (1.1.0)\n",
      "Requirement already satisfied: markdown>=2.6.8 in c:\\users\\ramda\\anaconda3\\lib\\site-packages (from tensorboard<2.16,>=2.15->tensorflow-intel==2.15.0->tensorflow) (3.4.1)\n",
      "Requirement already satisfied: requests<3,>=2.21.0 in c:\\users\\ramda\\anaconda3\\lib\\site-packages (from tensorboard<2.16,>=2.15->tensorflow-intel==2.15.0->tensorflow) (2.31.0)\n",
      "Requirement already satisfied: tensorboard-data-server<0.8.0,>=0.7.0 in c:\\users\\ramda\\anaconda3\\lib\\site-packages (from tensorboard<2.16,>=2.15->tensorflow-intel==2.15.0->tensorflow) (0.7.2)\n",
      "Requirement already satisfied: werkzeug>=1.0.1 in c:\\users\\ramda\\anaconda3\\lib\\site-packages (from tensorboard<2.16,>=2.15->tensorflow-intel==2.15.0->tensorflow) (2.2.3)\n",
      "Requirement already satisfied: cachetools<6.0,>=2.0.0 in c:\\users\\ramda\\anaconda3\\lib\\site-packages (from google-auth<3,>=1.6.3->tensorboard<2.16,>=2.15->tensorflow-intel==2.15.0->tensorflow) (5.3.1)\n",
      "Requirement already satisfied: pyasn1-modules>=0.2.1 in c:\\users\\ramda\\anaconda3\\lib\\site-packages (from google-auth<3,>=1.6.3->tensorboard<2.16,>=2.15->tensorflow-intel==2.15.0->tensorflow) (0.2.8)\n",
      "Requirement already satisfied: rsa<5,>=3.1.4 in c:\\users\\ramda\\anaconda3\\lib\\site-packages (from google-auth<3,>=1.6.3->tensorboard<2.16,>=2.15->tensorflow-intel==2.15.0->tensorflow) (4.9)\n",
      "Requirement already satisfied: requests-oauthlib>=0.7.0 in c:\\users\\ramda\\anaconda3\\lib\\site-packages (from google-auth-oauthlib<2,>=0.5->tensorboard<2.16,>=2.15->tensorflow-intel==2.15.0->tensorflow) (1.3.1)\n",
      "Requirement already satisfied: charset-normalizer<4,>=2 in c:\\users\\ramda\\anaconda3\\lib\\site-packages (from requests<3,>=2.21.0->tensorboard<2.16,>=2.15->tensorflow-intel==2.15.0->tensorflow) (2.0.4)\n",
      "Requirement already satisfied: idna<4,>=2.5 in c:\\users\\ramda\\anaconda3\\lib\\site-packages (from requests<3,>=2.21.0->tensorboard<2.16,>=2.15->tensorflow-intel==2.15.0->tensorflow) (3.4)\n",
      "Requirement already satisfied: urllib3<3,>=1.21.1 in c:\\users\\ramda\\anaconda3\\lib\\site-packages (from requests<3,>=2.21.0->tensorboard<2.16,>=2.15->tensorflow-intel==2.15.0->tensorflow) (1.26.16)\n",
      "Requirement already satisfied: certifi>=2017.4.17 in c:\\users\\ramda\\anaconda3\\lib\\site-packages (from requests<3,>=2.21.0->tensorboard<2.16,>=2.15->tensorflow-intel==2.15.0->tensorflow) (2023.7.22)\n",
      "Requirement already satisfied: MarkupSafe>=2.1.1 in c:\\users\\ramda\\anaconda3\\lib\\site-packages (from werkzeug>=1.0.1->tensorboard<2.16,>=2.15->tensorflow-intel==2.15.0->tensorflow) (2.1.1)\n",
      "Requirement already satisfied: pyasn1<0.5.0,>=0.4.6 in c:\\users\\ramda\\anaconda3\\lib\\site-packages (from pyasn1-modules>=0.2.1->google-auth<3,>=1.6.3->tensorboard<2.16,>=2.15->tensorflow-intel==2.15.0->tensorflow) (0.4.8)\n",
      "Requirement already satisfied: oauthlib>=3.0.0 in c:\\users\\ramda\\anaconda3\\lib\\site-packages (from requests-oauthlib>=0.7.0->google-auth-oauthlib<2,>=0.5->tensorboard<2.16,>=2.15->tensorflow-intel==2.15.0->tensorflow) (3.2.2)\n"
     ]
    }
   ],
   "source": [
    "!pip install tensorflow"
   ]
  },
  {
   "cell_type": "code",
   "execution_count": 39,
   "metadata": {},
   "outputs": [
    {
     "name": "stdout",
     "output_type": "stream",
     "text": [
      "WARNING:tensorflow:From C:\\Users\\ramda\\anaconda3\\Lib\\site-packages\\keras\\src\\losses.py:2976: The name tf.losses.sparse_softmax_cross_entropy is deprecated. Please use tf.compat.v1.losses.sparse_softmax_cross_entropy instead.\n",
      "\n"
     ]
    }
   ],
   "source": [
    "from tensorflow.keras.models import Sequential\n",
    "from tensorflow.keras.layers import Dense\n",
    "from tensorflow.keras.layers import LSTM"
   ]
  },
  {
   "cell_type": "code",
   "execution_count": 40,
   "metadata": {},
   "outputs": [
    {
     "data": {
      "text/plain": [
       "Value    95.65\n",
       "Name: 2022-10-06 00:00:00, dtype: float64"
      ]
     },
     "execution_count": 40,
     "metadata": {},
     "output_type": "execute_result"
    }
   ],
   "source": [
    " df.loc['2022-10-06']"
   ]
  },
  {
   "cell_type": "code",
   "execution_count": 41,
   "metadata": {},
   "outputs": [
    {
     "name": "stdout",
     "output_type": "stream",
     "text": [
      "WARNING:tensorflow:From C:\\Users\\ramda\\anaconda3\\Lib\\site-packages\\keras\\src\\backend.py:873: The name tf.get_default_graph is deprecated. Please use tf.compat.v1.get_default_graph instead.\n",
      "\n",
      "WARNING:tensorflow:From C:\\Users\\ramda\\anaconda3\\Lib\\site-packages\\keras\\src\\optimizers\\__init__.py:309: The name tf.train.Optimizer is deprecated. Please use tf.compat.v1.train.Optimizer instead.\n",
      "\n"
     ]
    }
   ],
   "source": [
    "model = Sequential()\n",
    "model.add(LSTM(50,return_sequences = True, input_shape = (100,1)))\n",
    "model.add(LSTM(50,return_sequences = True))\n",
    "model.add(LSTM(50))\n",
    "model.add(Dense(1))\n",
    "model.compile(loss = 'mean_absolute_error', optimizer = 'adam')"
   ]
  },
  {
   "cell_type": "code",
   "execution_count": 42,
   "metadata": {},
   "outputs": [
    {
     "name": "stdout",
     "output_type": "stream",
     "text": [
      "Model: \"sequential\"\n",
      "_________________________________________________________________\n",
      " Layer (type)                Output Shape              Param #   \n",
      "=================================================================\n",
      " lstm (LSTM)                 (None, 100, 50)           10400     \n",
      "                                                                 \n",
      " lstm_1 (LSTM)               (None, 100, 50)           20200     \n",
      "                                                                 \n",
      " lstm_2 (LSTM)               (None, 50)                20200     \n",
      "                                                                 \n",
      " dense (Dense)               (None, 1)                 51        \n",
      "                                                                 \n",
      "=================================================================\n",
      "Total params: 50851 (198.64 KB)\n",
      "Trainable params: 50851 (198.64 KB)\n",
      "Non-trainable params: 0 (0.00 Byte)\n",
      "_________________________________________________________________\n"
     ]
    }
   ],
   "source": [
    "model.summary()"
   ]
  },
  {
   "cell_type": "code",
   "execution_count": 43,
   "metadata": {
    "scrolled": true
   },
   "outputs": [
    {
     "name": "stdout",
     "output_type": "stream",
     "text": [
      "Epoch 1/10\n",
      "WARNING:tensorflow:From C:\\Users\\ramda\\anaconda3\\Lib\\site-packages\\keras\\src\\utils\\tf_utils.py:492: The name tf.ragged.RaggedTensorValue is deprecated. Please use tf.compat.v1.ragged.RaggedTensorValue instead.\n",
      "\n",
      "72/72 [==============================] - 29s 293ms/step - loss: 0.1509 - val_loss: 0.1003\n",
      "Epoch 2/10\n",
      "72/72 [==============================] - 19s 258ms/step - loss: 0.0605 - val_loss: 0.1040\n",
      "Epoch 3/10\n",
      "72/72 [==============================] - 20s 283ms/step - loss: 0.0564 - val_loss: 0.0883\n",
      "Epoch 4/10\n",
      "72/72 [==============================] - 20s 276ms/step - loss: 0.0511 - val_loss: 0.0842\n",
      "Epoch 5/10\n",
      "72/72 [==============================] - 18s 255ms/step - loss: 0.0490 - val_loss: 0.0791\n",
      "Epoch 6/10\n",
      "72/72 [==============================] - 20s 281ms/step - loss: 0.0458 - val_loss: 0.0732\n",
      "Epoch 7/10\n",
      "72/72 [==============================] - 21s 291ms/step - loss: 0.0445 - val_loss: 0.0710\n",
      "Epoch 8/10\n",
      "72/72 [==============================] - 21s 289ms/step - loss: 0.0440 - val_loss: 0.0681\n",
      "Epoch 9/10\n",
      "72/72 [==============================] - 20s 278ms/step - loss: 0.0409 - val_loss: 0.0655\n",
      "Epoch 10/10\n",
      "72/72 [==============================] - 20s 280ms/step - loss: 0.0388 - val_loss: 0.0607\n"
     ]
    },
    {
     "data": {
      "text/plain": [
       "<keras.src.callbacks.History at 0x2916bc1efd0>"
      ]
     },
     "execution_count": 43,
     "metadata": {},
     "output_type": "execute_result"
    }
   ],
   "source": [
    "model.fit(X_train,y_train,validation_data = (X_test,y_test),epochs = 10,batch_size = 128, verbose =1)"
   ]
  },
  {
   "cell_type": "code",
   "execution_count": 44,
   "metadata": {},
   "outputs": [
    {
     "name": "stdout",
     "output_type": "stream",
     "text": [
      "286/286 [==============================] - 15s 45ms/step\n",
      "9/9 [==============================] - 0s 47ms/step\n"
     ]
    }
   ],
   "source": [
    "train_predict = model.predict(X_train)\n",
    "test_predict = model.predict(X_test)"
   ]
  },
  {
   "cell_type": "code",
   "execution_count": 45,
   "metadata": {},
   "outputs": [],
   "source": [
    "train_predict = scaler.inverse_transform(train_predict)\n",
    "test_predict = scaler.inverse_transform(test_predict)"
   ]
  },
  {
   "cell_type": "code",
   "execution_count": 46,
   "metadata": {},
   "outputs": [
    {
     "data": {
      "text/plain": [
       "58.49001468543075"
      ]
     },
     "execution_count": 46,
     "metadata": {},
     "output_type": "execute_result"
    }
   ],
   "source": [
    "import math\n",
    "from sklearn.metrics import mean_squared_error\n",
    "math.sqrt(mean_squared_error(y_train,train_predict))"
   ]
  },
  {
   "cell_type": "code",
   "execution_count": 47,
   "metadata": {},
   "outputs": [
    {
     "data": {
      "text/plain": [
       "83.4873996160603"
      ]
     },
     "execution_count": 47,
     "metadata": {},
     "output_type": "execute_result"
    }
   ],
   "source": [
    "math.sqrt(mean_squared_error(y_test,test_predict))"
   ]
  },
  {
   "cell_type": "code",
   "execution_count": 48,
   "metadata": {},
   "outputs": [
    {
     "data": {
      "text/plain": [
       "(9143, 1)"
      ]
     },
     "execution_count": 48,
     "metadata": {},
     "output_type": "execute_result"
    }
   ],
   "source": [
    "train_predict.shape"
   ]
  },
  {
   "cell_type": "code",
   "execution_count": 49,
   "metadata": {},
   "outputs": [
    {
     "data": {
      "text/plain": [
       "(281, 1)"
      ]
     },
     "execution_count": 49,
     "metadata": {},
     "output_type": "execute_result"
    }
   ],
   "source": [
    "test_predict.shape"
   ]
  },
  {
   "cell_type": "code",
   "execution_count": 50,
   "metadata": {},
   "outputs": [],
   "source": [
    "a = train_predict.reshape(train_predict.shape[0],)"
   ]
  },
  {
   "cell_type": "code",
   "execution_count": 51,
   "metadata": {},
   "outputs": [],
   "source": [
    "b = test_predict.reshape(test_predict.shape[0],)"
   ]
  },
  {
   "cell_type": "code",
   "execution_count": 52,
   "metadata": {},
   "outputs": [],
   "source": [
    "c = list(a)+list(b)"
   ]
  },
  {
   "cell_type": "code",
   "execution_count": 53,
   "metadata": {},
   "outputs": [
    {
     "data": {
      "text/plain": [
       "9424"
      ]
     },
     "execution_count": 53,
     "metadata": {},
     "output_type": "execute_result"
    }
   ],
   "source": [
    "len(c)"
   ]
  },
  {
   "cell_type": "code",
   "execution_count": 54,
   "metadata": {},
   "outputs": [
    {
     "data": {
      "text/html": [
       "<div>\n",
       "<style scoped>\n",
       "    .dataframe tbody tr th:only-of-type {\n",
       "        vertical-align: middle;\n",
       "    }\n",
       "\n",
       "    .dataframe tbody tr th {\n",
       "        vertical-align: top;\n",
       "    }\n",
       "\n",
       "    .dataframe thead th {\n",
       "        text-align: right;\n",
       "    }\n",
       "</style>\n",
       "<table border=\"1\" class=\"dataframe\">\n",
       "  <thead>\n",
       "    <tr style=\"text-align: right;\">\n",
       "      <th></th>\n",
       "      <th>Value</th>\n",
       "    </tr>\n",
       "    <tr>\n",
       "      <th>Date</th>\n",
       "      <th></th>\n",
       "    </tr>\n",
       "  </thead>\n",
       "  <tbody>\n",
       "    <tr>\n",
       "      <th>1987-05-20</th>\n",
       "      <td>18.63</td>\n",
       "    </tr>\n",
       "    <tr>\n",
       "      <th>1987-05-21</th>\n",
       "      <td>18.45</td>\n",
       "    </tr>\n",
       "    <tr>\n",
       "      <th>1987-05-22</th>\n",
       "      <td>18.55</td>\n",
       "    </tr>\n",
       "    <tr>\n",
       "      <th>1987-05-25</th>\n",
       "      <td>18.60</td>\n",
       "    </tr>\n",
       "    <tr>\n",
       "      <th>1987-05-26</th>\n",
       "      <td>18.63</td>\n",
       "    </tr>\n",
       "    <tr>\n",
       "      <th>...</th>\n",
       "      <td>...</td>\n",
       "    </tr>\n",
       "    <tr>\n",
       "      <th>2023-11-14</th>\n",
       "      <td>84.20</td>\n",
       "    </tr>\n",
       "    <tr>\n",
       "      <th>2023-11-15</th>\n",
       "      <td>82.40</td>\n",
       "    </tr>\n",
       "    <tr>\n",
       "      <th>2023-11-16</th>\n",
       "      <td>77.73</td>\n",
       "    </tr>\n",
       "    <tr>\n",
       "      <th>2023-11-17</th>\n",
       "      <td>81.22</td>\n",
       "    </tr>\n",
       "    <tr>\n",
       "      <th>2023-11-20</th>\n",
       "      <td>83.25</td>\n",
       "    </tr>\n",
       "  </tbody>\n",
       "</table>\n",
       "<p>9524 rows × 1 columns</p>\n",
       "</div>"
      ],
      "text/plain": [
       "            Value\n",
       "Date             \n",
       "1987-05-20  18.63\n",
       "1987-05-21  18.45\n",
       "1987-05-22  18.55\n",
       "1987-05-25  18.60\n",
       "1987-05-26  18.63\n",
       "...           ...\n",
       "2023-11-14  84.20\n",
       "2023-11-15  82.40\n",
       "2023-11-16  77.73\n",
       "2023-11-17  81.22\n",
       "2023-11-20  83.25\n",
       "\n",
       "[9524 rows x 1 columns]"
      ]
     },
     "execution_count": 54,
     "metadata": {},
     "output_type": "execute_result"
    }
   ],
   "source": [
    "df"
   ]
  },
  {
   "cell_type": "code",
   "execution_count": 55,
   "metadata": {},
   "outputs": [],
   "source": [
    "#diff of 100\n",
    "t = []\n",
    "for i in range(100):\n",
    "    t.append(np.NAN)"
   ]
  },
  {
   "cell_type": "code",
   "execution_count": 56,
   "metadata": {},
   "outputs": [],
   "source": [
    "d = t+c"
   ]
  },
  {
   "cell_type": "code",
   "execution_count": 57,
   "metadata": {},
   "outputs": [
    {
     "data": {
      "text/plain": [
       "9524"
      ]
     },
     "execution_count": 57,
     "metadata": {},
     "output_type": "execute_result"
    }
   ],
   "source": [
    "len(d)"
   ]
  },
  {
   "cell_type": "code",
   "execution_count": 58,
   "metadata": {},
   "outputs": [],
   "source": [
    "df['Predicted Price'] = d"
   ]
  },
  {
   "cell_type": "code",
   "execution_count": 59,
   "metadata": {},
   "outputs": [
    {
     "data": {
      "text/html": [
       "<div>\n",
       "<style scoped>\n",
       "    .dataframe tbody tr th:only-of-type {\n",
       "        vertical-align: middle;\n",
       "    }\n",
       "\n",
       "    .dataframe tbody tr th {\n",
       "        vertical-align: top;\n",
       "    }\n",
       "\n",
       "    .dataframe thead th {\n",
       "        text-align: right;\n",
       "    }\n",
       "</style>\n",
       "<table border=\"1\" class=\"dataframe\">\n",
       "  <thead>\n",
       "    <tr style=\"text-align: right;\">\n",
       "      <th></th>\n",
       "      <th>Value</th>\n",
       "      <th>Predicted Price</th>\n",
       "    </tr>\n",
       "    <tr>\n",
       "      <th>Date</th>\n",
       "      <th></th>\n",
       "      <th></th>\n",
       "    </tr>\n",
       "  </thead>\n",
       "  <tbody>\n",
       "    <tr>\n",
       "      <th>1987-05-20</th>\n",
       "      <td>18.63</td>\n",
       "      <td>NaN</td>\n",
       "    </tr>\n",
       "    <tr>\n",
       "      <th>1987-05-21</th>\n",
       "      <td>18.45</td>\n",
       "      <td>NaN</td>\n",
       "    </tr>\n",
       "    <tr>\n",
       "      <th>1987-05-22</th>\n",
       "      <td>18.55</td>\n",
       "      <td>NaN</td>\n",
       "    </tr>\n",
       "    <tr>\n",
       "      <th>1987-05-25</th>\n",
       "      <td>18.60</td>\n",
       "      <td>NaN</td>\n",
       "    </tr>\n",
       "    <tr>\n",
       "      <th>1987-05-26</th>\n",
       "      <td>18.63</td>\n",
       "      <td>NaN</td>\n",
       "    </tr>\n",
       "    <tr>\n",
       "      <th>...</th>\n",
       "      <td>...</td>\n",
       "      <td>...</td>\n",
       "    </tr>\n",
       "    <tr>\n",
       "      <th>2023-11-14</th>\n",
       "      <td>84.20</td>\n",
       "      <td>82.754204</td>\n",
       "    </tr>\n",
       "    <tr>\n",
       "      <th>2023-11-15</th>\n",
       "      <td>82.40</td>\n",
       "      <td>83.200127</td>\n",
       "    </tr>\n",
       "    <tr>\n",
       "      <th>2023-11-16</th>\n",
       "      <td>77.73</td>\n",
       "      <td>83.487152</td>\n",
       "    </tr>\n",
       "    <tr>\n",
       "      <th>2023-11-17</th>\n",
       "      <td>81.22</td>\n",
       "      <td>82.598663</td>\n",
       "    </tr>\n",
       "    <tr>\n",
       "      <th>2023-11-20</th>\n",
       "      <td>83.25</td>\n",
       "      <td>81.776665</td>\n",
       "    </tr>\n",
       "  </tbody>\n",
       "</table>\n",
       "<p>9524 rows × 2 columns</p>\n",
       "</div>"
      ],
      "text/plain": [
       "            Value  Predicted Price\n",
       "Date                              \n",
       "1987-05-20  18.63              NaN\n",
       "1987-05-21  18.45              NaN\n",
       "1987-05-22  18.55              NaN\n",
       "1987-05-25  18.60              NaN\n",
       "1987-05-26  18.63              NaN\n",
       "...           ...              ...\n",
       "2023-11-14  84.20        82.754204\n",
       "2023-11-15  82.40        83.200127\n",
       "2023-11-16  77.73        83.487152\n",
       "2023-11-17  81.22        82.598663\n",
       "2023-11-20  83.25        81.776665\n",
       "\n",
       "[9524 rows x 2 columns]"
      ]
     },
     "execution_count": 59,
     "metadata": {},
     "output_type": "execute_result"
    }
   ],
   "source": [
    "df"
   ]
  },
  {
   "cell_type": "code",
   "execution_count": 60,
   "metadata": {},
   "outputs": [
    {
     "data": {
      "text/plain": [
       "<matplotlib.legend.Legend at 0x291713b0690>"
      ]
     },
     "execution_count": 60,
     "metadata": {},
     "output_type": "execute_result"
    },
    {
     "data": {
      "image/png": "[encoded data removed]",
      "text/plain": [
       "<Figure size 1600x700 with 1 Axes>"
      ]
     },
     "metadata": {},
     "output_type": "display_data"
    }
   ],
   "source": [
    "plt.figure(figsize = (16,7))\n",
    "plt.grid(True)\n",
    "plt.title('Crude price Forecasting Training and Validation')\n",
    "plt.plot(df.index,df['Value'],label = 'Original Value',c = 'blue')\n",
    "plt.plot(df[:train_predict.shape[0]+w].index,df['Predicted Price'][:train_predict.shape[0]+w],label = 'predicted training price',c = 'red')\n",
    "plt.plot(df.index[train_predict.shape[0]+100:],df['Predicted Price'][train_predict.shape[0]+w:],label = 'predicted validating price',c = 'green')\n",
    "plt.axvline(df.index[train_predict.shape[0]+w], color='black',lw=3)\n",
    "\n",
    "plt.legend()"
   ]
  },
  {
   "cell_type": "code",
   "execution_count": 61,
   "metadata": {},
   "outputs": [],
   "source": [
    "# forecasting in future"
   ]
  },
  {
   "cell_type": "code",
   "execution_count": 62,
   "metadata": {},
   "outputs": [
    {
     "data": {
      "text/html": [
       "<div>\n",
       "<style scoped>\n",
       "    .dataframe tbody tr th:only-of-type {\n",
       "        vertical-align: middle;\n",
       "    }\n",
       "\n",
       "    .dataframe tbody tr th {\n",
       "        vertical-align: top;\n",
       "    }\n",
       "\n",
       "    .dataframe thead th {\n",
       "        text-align: right;\n",
       "    }\n",
       "</style>\n",
       "<table border=\"1\" class=\"dataframe\">\n",
       "  <thead>\n",
       "    <tr style=\"text-align: right;\">\n",
       "      <th></th>\n",
       "      <th>Value</th>\n",
       "      <th>Predicted Price</th>\n",
       "    </tr>\n",
       "    <tr>\n",
       "      <th>Date</th>\n",
       "      <th></th>\n",
       "      <th></th>\n",
       "    </tr>\n",
       "  </thead>\n",
       "  <tbody>\n",
       "    <tr>\n",
       "      <th>1987-05-20</th>\n",
       "      <td>18.63</td>\n",
       "      <td>NaN</td>\n",
       "    </tr>\n",
       "    <tr>\n",
       "      <th>1987-05-21</th>\n",
       "      <td>18.45</td>\n",
       "      <td>NaN</td>\n",
       "    </tr>\n",
       "    <tr>\n",
       "      <th>1987-05-22</th>\n",
       "      <td>18.55</td>\n",
       "      <td>NaN</td>\n",
       "    </tr>\n",
       "    <tr>\n",
       "      <th>1987-05-25</th>\n",
       "      <td>18.60</td>\n",
       "      <td>NaN</td>\n",
       "    </tr>\n",
       "    <tr>\n",
       "      <th>1987-05-26</th>\n",
       "      <td>18.63</td>\n",
       "      <td>NaN</td>\n",
       "    </tr>\n",
       "    <tr>\n",
       "      <th>...</th>\n",
       "      <td>...</td>\n",
       "      <td>...</td>\n",
       "    </tr>\n",
       "    <tr>\n",
       "      <th>2023-11-14</th>\n",
       "      <td>84.20</td>\n",
       "      <td>82.754204</td>\n",
       "    </tr>\n",
       "    <tr>\n",
       "      <th>2023-11-15</th>\n",
       "      <td>82.40</td>\n",
       "      <td>83.200127</td>\n",
       "    </tr>\n",
       "    <tr>\n",
       "      <th>2023-11-16</th>\n",
       "      <td>77.73</td>\n",
       "      <td>83.487152</td>\n",
       "    </tr>\n",
       "    <tr>\n",
       "      <th>2023-11-17</th>\n",
       "      <td>81.22</td>\n",
       "      <td>82.598663</td>\n",
       "    </tr>\n",
       "    <tr>\n",
       "      <th>2023-11-20</th>\n",
       "      <td>83.25</td>\n",
       "      <td>81.776665</td>\n",
       "    </tr>\n",
       "  </tbody>\n",
       "</table>\n",
       "<p>9524 rows × 2 columns</p>\n",
       "</div>"
      ],
      "text/plain": [
       "            Value  Predicted Price\n",
       "Date                              \n",
       "1987-05-20  18.63              NaN\n",
       "1987-05-21  18.45              NaN\n",
       "1987-05-22  18.55              NaN\n",
       "1987-05-25  18.60              NaN\n",
       "1987-05-26  18.63              NaN\n",
       "...           ...              ...\n",
       "2023-11-14  84.20        82.754204\n",
       "2023-11-15  82.40        83.200127\n",
       "2023-11-16  77.73        83.487152\n",
       "2023-11-17  81.22        82.598663\n",
       "2023-11-20  83.25        81.776665\n",
       "\n",
       "[9524 rows x 2 columns]"
      ]
     },
     "execution_count": 62,
     "metadata": {},
     "output_type": "execute_result"
    }
   ],
   "source": [
    "df"
   ]
  },
  {
   "cell_type": "code",
   "execution_count": 63,
   "metadata": {},
   "outputs": [],
   "source": [
    "ddf = df[100:]"
   ]
  },
  {
   "cell_type": "code",
   "execution_count": 64,
   "metadata": {},
   "outputs": [
    {
     "data": {
      "text/html": [
       "<div>\n",
       "<style scoped>\n",
       "    .dataframe tbody tr th:only-of-type {\n",
       "        vertical-align: middle;\n",
       "    }\n",
       "\n",
       "    .dataframe tbody tr th {\n",
       "        vertical-align: top;\n",
       "    }\n",
       "\n",
       "    .dataframe thead th {\n",
       "        text-align: right;\n",
       "    }\n",
       "</style>\n",
       "<table border=\"1\" class=\"dataframe\">\n",
       "  <thead>\n",
       "    <tr style=\"text-align: right;\">\n",
       "      <th></th>\n",
       "      <th>Value</th>\n",
       "      <th>Predicted Price</th>\n",
       "    </tr>\n",
       "    <tr>\n",
       "      <th>Date</th>\n",
       "      <th></th>\n",
       "      <th></th>\n",
       "    </tr>\n",
       "  </thead>\n",
       "  <tbody>\n",
       "    <tr>\n",
       "      <th>1987-10-07</th>\n",
       "      <td>18.58</td>\n",
       "      <td>18.472324</td>\n",
       "    </tr>\n",
       "    <tr>\n",
       "      <th>1987-10-08</th>\n",
       "      <td>18.63</td>\n",
       "      <td>18.481539</td>\n",
       "    </tr>\n",
       "    <tr>\n",
       "      <th>1987-10-09</th>\n",
       "      <td>18.60</td>\n",
       "      <td>18.487751</td>\n",
       "    </tr>\n",
       "    <tr>\n",
       "      <th>1987-10-12</th>\n",
       "      <td>18.55</td>\n",
       "      <td>18.489948</td>\n",
       "    </tr>\n",
       "    <tr>\n",
       "      <th>1987-10-13</th>\n",
       "      <td>18.55</td>\n",
       "      <td>18.485476</td>\n",
       "    </tr>\n",
       "    <tr>\n",
       "      <th>...</th>\n",
       "      <td>...</td>\n",
       "      <td>...</td>\n",
       "    </tr>\n",
       "    <tr>\n",
       "      <th>2023-11-14</th>\n",
       "      <td>84.20</td>\n",
       "      <td>82.754204</td>\n",
       "    </tr>\n",
       "    <tr>\n",
       "      <th>2023-11-15</th>\n",
       "      <td>82.40</td>\n",
       "      <td>83.200127</td>\n",
       "    </tr>\n",
       "    <tr>\n",
       "      <th>2023-11-16</th>\n",
       "      <td>77.73</td>\n",
       "      <td>83.487152</td>\n",
       "    </tr>\n",
       "    <tr>\n",
       "      <th>2023-11-17</th>\n",
       "      <td>81.22</td>\n",
       "      <td>82.598663</td>\n",
       "    </tr>\n",
       "    <tr>\n",
       "      <th>2023-11-20</th>\n",
       "      <td>83.25</td>\n",
       "      <td>81.776665</td>\n",
       "    </tr>\n",
       "  </tbody>\n",
       "</table>\n",
       "<p>9424 rows × 2 columns</p>\n",
       "</div>"
      ],
      "text/plain": [
       "            Value  Predicted Price\n",
       "Date                              \n",
       "1987-10-07  18.58        18.472324\n",
       "1987-10-08  18.63        18.481539\n",
       "1987-10-09  18.60        18.487751\n",
       "1987-10-12  18.55        18.489948\n",
       "1987-10-13  18.55        18.485476\n",
       "...           ...              ...\n",
       "2023-11-14  84.20        82.754204\n",
       "2023-11-15  82.40        83.200127\n",
       "2023-11-16  77.73        83.487152\n",
       "2023-11-17  81.22        82.598663\n",
       "2023-11-20  83.25        81.776665\n",
       "\n",
       "[9424 rows x 2 columns]"
      ]
     },
     "execution_count": 64,
     "metadata": {},
     "output_type": "execute_result"
    }
   ],
   "source": [
    "ddf"
   ]
  },
  {
   "cell_type": "code",
   "execution_count": 65,
   "metadata": {},
   "outputs": [
    {
     "data": {
      "text/plain": [
       "(381, 1)"
      ]
     },
     "execution_count": 65,
     "metadata": {},
     "output_type": "execute_result"
    }
   ],
   "source": [
    "test_data.shape"
   ]
  },
  {
   "cell_type": "code",
   "execution_count": 66,
   "metadata": {},
   "outputs": [
    {
     "data": {
      "text/plain": [
       "(1, 100)"
      ]
     },
     "execution_count": 66,
     "metadata": {},
     "output_type": "execute_result"
    }
   ],
   "source": [
    "#for next one day price, last 100 days data is needed\n",
    "x_input = test_data[-100:].reshape(1,-1)\n",
    "x_input.shape"
   ]
  },
  {
   "cell_type": "code",
   "execution_count": 67,
   "metadata": {},
   "outputs": [
    {
     "data": {
      "text/plain": [
       "array([[0.8104691 , 0.82591576, 0.82531001, 0.88739955, 0.85892923,\n",
       "        0.91072099, 0.93525393, 0.96433001, 0.92162452, 0.8580206 ,\n",
       "        0.91072099, 0.90587498, 0.913144  , 0.95675811, 1.00128085,\n",
       "        1.0294483 , 1.01491027, 1.05428412, 1.06064451, 1.08275445,\n",
       "        1.08638896, 1.04610647, 1.1121334 , 1.14817562, 1.12061392,\n",
       "        1.16695392, 1.20663065, 1.14999287, 1.16483379, 1.14878137,\n",
       "        1.11485928, 1.06064451, 1.0833602 , 1.10395575, 1.08941771,\n",
       "        1.0670049 , 1.04398634, 1.04792373, 1.08881196, 1.08881196,\n",
       "        1.11758516, 1.12515706, 1.14544974, 1.22692333, 1.24024986,\n",
       "        1.26538856, 1.28174385, 1.26266267, 1.2835611 , 1.28719561,\n",
       "        1.33595862, 1.31960333, 1.3850245 , 1.39562515, 1.40774018,\n",
       "        1.4125862 , 1.36564045, 1.33959313, 1.34837653, 1.34898228,\n",
       "        1.36261169, 1.4425709 , 1.42863861, 1.4050143 , 1.26417705,\n",
       "        1.36261169, 1.22238019, 1.17543444, 1.16271366, 1.26902307,\n",
       "        1.24873039, 1.15423314, 1.17906895, 1.3586743 , 1.25751379,\n",
       "        1.30385378, 1.28780137, 1.32202633, 1.34019888, 1.28446973,\n",
       "        1.16695392, 1.23176934, 1.18058333, 1.24963901, 1.24963901,\n",
       "        1.13121457, 1.13424333, 1.19784725, 1.15332451, 1.14605549,\n",
       "        1.02853968, 0.96887314, 0.97735367, 1.03550582, 1.04852948,\n",
       "        1.05186111, 0.99734347, 0.85590047, 0.96160412, 1.02308791]])"
      ]
     },
     "execution_count": 67,
     "metadata": {},
     "output_type": "execute_result"
    }
   ],
   "source": [
    "x_input"
   ]
  },
  {
   "cell_type": "code",
   "execution_count": 68,
   "metadata": {},
   "outputs": [],
   "source": [
    "temp_input = list(x_input)\n"
   ]
  },
  {
   "cell_type": "code",
   "execution_count": 69,
   "metadata": {},
   "outputs": [
    {
     "data": {
      "text/plain": [
       "[array([0.8104691 , 0.82591576, 0.82531001, 0.88739955, 0.85892923,\n",
       "        0.91072099, 0.93525393, 0.96433001, 0.92162452, 0.8580206 ,\n",
       "        0.91072099, 0.90587498, 0.913144  , 0.95675811, 1.00128085,\n",
       "        1.0294483 , 1.01491027, 1.05428412, 1.06064451, 1.08275445,\n",
       "        1.08638896, 1.04610647, 1.1121334 , 1.14817562, 1.12061392,\n",
       "        1.16695392, 1.20663065, 1.14999287, 1.16483379, 1.14878137,\n",
       "        1.11485928, 1.06064451, 1.0833602 , 1.10395575, 1.08941771,\n",
       "        1.0670049 , 1.04398634, 1.04792373, 1.08881196, 1.08881196,\n",
       "        1.11758516, 1.12515706, 1.14544974, 1.22692333, 1.24024986,\n",
       "        1.26538856, 1.28174385, 1.26266267, 1.2835611 , 1.28719561,\n",
       "        1.33595862, 1.31960333, 1.3850245 , 1.39562515, 1.40774018,\n",
       "        1.4125862 , 1.36564045, 1.33959313, 1.34837653, 1.34898228,\n",
       "        1.36261169, 1.4425709 , 1.42863861, 1.4050143 , 1.26417705,\n",
       "        1.36261169, 1.22238019, 1.17543444, 1.16271366, 1.26902307,\n",
       "        1.24873039, 1.15423314, 1.17906895, 1.3586743 , 1.25751379,\n",
       "        1.30385378, 1.28780137, 1.32202633, 1.34019888, 1.28446973,\n",
       "        1.16695392, 1.23176934, 1.18058333, 1.24963901, 1.24963901,\n",
       "        1.13121457, 1.13424333, 1.19784725, 1.15332451, 1.14605549,\n",
       "        1.02853968, 0.96887314, 0.97735367, 1.03550582, 1.04852948,\n",
       "        1.05186111, 0.99734347, 0.85590047, 0.96160412, 1.02308791])]"
      ]
     },
     "execution_count": 69,
     "metadata": {},
     "output_type": "execute_result"
    }
   ],
   "source": [
    "temp_input"
   ]
  },
  {
   "cell_type": "code",
   "execution_count": 70,
   "metadata": {},
   "outputs": [],
   "source": [
    "temp_input = temp_input[0].tolist()"
   ]
  },
  {
   "cell_type": "code",
   "execution_count": 71,
   "metadata": {},
   "outputs": [
    {
     "data": {
      "text/plain": [
       "[0.8104690981132208,\n",
       " 0.8259157641308333,\n",
       " 0.8253100125222996,\n",
       " 0.8873995523970182,\n",
       " 0.8589292267959278,\n",
       " 0.9107209893255713,\n",
       " 0.9352539294711915,\n",
       " 0.964330006680816,\n",
       " 0.9216245182791803,\n",
       " 0.8580205993831269,\n",
       " 0.9107209893255713,\n",
       " 0.9058749764573002,\n",
       " 0.9131439957597066,\n",
       " 0.956758111574143,\n",
       " 1.0012808548013803,\n",
       " 1.0294483045982035,\n",
       " 1.0149102659933917,\n",
       " 1.054284120548091,\n",
       " 1.0606445124376962,\n",
       " 1.0827544461491816,\n",
       " 1.0863889558003847,\n",
       " 1.0461064738328845,\n",
       " 1.1121333991630729,\n",
       " 1.1481756198708362,\n",
       " 1.1206139216825466,\n",
       " 1.1669539197353853,\n",
       " 1.206630650094352,\n",
       " 1.1499928746964376,\n",
       " 1.1648337891055172,\n",
       " 1.1487813714793702,\n",
       " 1.114859281401475,\n",
       " 1.0606445124376962,\n",
       " 1.0833601977577152,\n",
       " 1.103955752447866,\n",
       " 1.0894177138430539,\n",
       " 1.0670049043273018,\n",
       " 1.0439863432030159,\n",
       " 1.0479237286584857,\n",
       " 1.08881196223452,\n",
       " 1.08881196223452,\n",
       " 1.1175851636398775,\n",
       " 1.1251570587465505,\n",
       " 1.1454497376324342,\n",
       " 1.2269233289802355,\n",
       " 1.24024986436798,\n",
       " 1.2653885561221343,\n",
       " 1.2817438495525482,\n",
       " 1.2626626738837319,\n",
       " 1.2835611043781494,\n",
       " 1.2871956140293526,\n",
       " 1.3359586185163266,\n",
       " 1.3196033250859132,\n",
       " 1.3850244988075677,\n",
       " 1.3956251519569098,\n",
       " 1.4077401841275867,\n",
       " 1.4125861969958573,\n",
       " 1.3656404473344848,\n",
       " 1.3395931281675297,\n",
       " 1.3483765264912702,\n",
       " 1.3489822780998044,\n",
       " 1.3626116892918154,\n",
       " 1.4425709016182822,\n",
       " 1.428638614622004,\n",
       " 1.4050143018891843,\n",
       " 1.2641770529050664,\n",
       " 1.3626116892918154,\n",
       " 1.2223801919162316,\n",
       " 1.175434442254859,\n",
       " 1.1627136584756483,\n",
       " 1.2690230657733375,\n",
       " 1.2487303868874537,\n",
       " 1.1542331359561746,\n",
       " 1.1790689519060622,\n",
       " 1.3586743038363456,\n",
       " 1.2575137852111942,\n",
       " 1.303853783264033,\n",
       " 1.2878013656378862,\n",
       " 1.3220263315200484,\n",
       " 1.3401988797760636,\n",
       " 1.2844697317909501,\n",
       " 1.1669539197353853,\n",
       " 1.2317693418485063,\n",
       " 1.1805833309273968,\n",
       " 1.2496390143002545,\n",
       " 1.2496390143002545,\n",
       " 1.1312145748318885,\n",
       " 1.134243332874558,\n",
       " 1.1978472517706111,\n",
       " 1.1533245085433739,\n",
       " 1.146055489240968,\n",
       " 1.0285396771854032,\n",
       " 0.9688731437448196,\n",
       " 0.9773536662642933,\n",
       " 1.035505820683542,\n",
       " 1.0485294802670198,\n",
       " 1.0518611141139558,\n",
       " 0.9973434693459103,\n",
       " 0.8559004687532588,\n",
       " 0.9616041244424136,\n",
       " 1.0230879127085983]"
      ]
     },
     "execution_count": 71,
     "metadata": {},
     "output_type": "execute_result"
    }
   ],
   "source": [
    "temp_input"
   ]
  },
  {
   "cell_type": "code",
   "execution_count": 72,
   "metadata": {},
   "outputs": [
    {
     "name": "stdout",
     "output_type": "stream",
     "text": [
      "[0.9758223]\n",
      "101\n",
      "1 day input [0.82591576 0.82531001 0.88739955 0.85892923 0.91072099 0.93525393\n",
      " 0.96433001 0.92162452 0.8580206  0.91072099 0.90587498 0.913144\n",
      " 0.95675811 1.00128085 1.0294483  1.01491027 1.05428412 1.06064451\n",
      " 1.08275445 1.08638896 1.04610647 1.1121334  1.14817562 1.12061392\n",
      " 1.16695392 1.20663065 1.14999287 1.16483379 1.14878137 1.11485928\n",
      " 1.06064451 1.0833602  1.10395575 1.08941771 1.0670049  1.04398634\n",
      " 1.04792373 1.08881196 1.08881196 1.11758516 1.12515706 1.14544974\n",
      " 1.22692333 1.24024986 1.26538856 1.28174385 1.26266267 1.2835611\n",
      " 1.28719561 1.33595862 1.31960333 1.3850245  1.39562515 1.40774018\n",
      " 1.4125862  1.36564045 1.33959313 1.34837653 1.34898228 1.36261169\n",
      " 1.4425709  1.42863861 1.4050143  1.26417705 1.36261169 1.22238019\n",
      " 1.17543444 1.16271366 1.26902307 1.24873039 1.15423314 1.17906895\n",
      " 1.3586743  1.25751379 1.30385378 1.28780137 1.32202633 1.34019888\n",
      " 1.28446973 1.16695392 1.23176934 1.18058333 1.24963901 1.24963901\n",
      " 1.13121457 1.13424333 1.19784725 1.15332451 1.14605549 1.02853968\n",
      " 0.96887314 0.97735367 1.03550582 1.04852948 1.05186111 0.99734347\n",
      " 0.85590047 0.96160412 1.02308791 0.97582233]\n",
      "1/1 [==============================] - 0s 75ms/step\n",
      "1 day output [[0.9802785]]\n",
      "2 day input [0.82531001 0.88739955 0.85892923 0.91072099 0.93525393 0.96433001\n",
      " 0.92162452 0.8580206  0.91072099 0.90587498 0.913144   0.95675811\n",
      " 1.00128085 1.0294483  1.01491027 1.05428412 1.06064451 1.08275445\n",
      " 1.08638896 1.04610647 1.1121334  1.14817562 1.12061392 1.16695392\n",
      " 1.20663065 1.14999287 1.16483379 1.14878137 1.11485928 1.06064451\n",
      " 1.0833602  1.10395575 1.08941771 1.0670049  1.04398634 1.04792373\n",
      " 1.08881196 1.08881196 1.11758516 1.12515706 1.14544974 1.22692333\n",
      " 1.24024986 1.26538856 1.28174385 1.26266267 1.2835611  1.28719561\n",
      " 1.33595862 1.31960333 1.3850245  1.39562515 1.40774018 1.4125862\n",
      " 1.36564045 1.33959313 1.34837653 1.34898228 1.36261169 1.4425709\n",
      " 1.42863861 1.4050143  1.26417705 1.36261169 1.22238019 1.17543444\n",
      " 1.16271366 1.26902307 1.24873039 1.15423314 1.17906895 1.3586743\n",
      " 1.25751379 1.30385378 1.28780137 1.32202633 1.34019888 1.28446973\n",
      " 1.16695392 1.23176934 1.18058333 1.24963901 1.24963901 1.13121457\n",
      " 1.13424333 1.19784725 1.15332451 1.14605549 1.02853968 0.96887314\n",
      " 0.97735367 1.03550582 1.04852948 1.05186111 0.99734347 0.85590047\n",
      " 0.96160412 1.02308791 0.97582233 0.98027849]\n",
      "1/1 [==============================] - 0s 62ms/step\n",
      "2 day output [[0.9872542]]\n",
      "3 day input [0.88739955 0.85892923 0.91072099 0.93525393 0.96433001 0.92162452\n",
      " 0.8580206  0.91072099 0.90587498 0.913144   0.95675811 1.00128085\n",
      " 1.0294483  1.01491027 1.05428412 1.06064451 1.08275445 1.08638896\n",
      " 1.04610647 1.1121334  1.14817562 1.12061392 1.16695392 1.20663065\n",
      " 1.14999287 1.16483379 1.14878137 1.11485928 1.06064451 1.0833602\n",
      " 1.10395575 1.08941771 1.0670049  1.04398634 1.04792373 1.08881196\n",
      " 1.08881196 1.11758516 1.12515706 1.14544974 1.22692333 1.24024986\n",
      " 1.26538856 1.28174385 1.26266267 1.2835611  1.28719561 1.33595862\n",
      " 1.31960333 1.3850245  1.39562515 1.40774018 1.4125862  1.36564045\n",
      " 1.33959313 1.34837653 1.34898228 1.36261169 1.4425709  1.42863861\n",
      " 1.4050143  1.26417705 1.36261169 1.22238019 1.17543444 1.16271366\n",
      " 1.26902307 1.24873039 1.15423314 1.17906895 1.3586743  1.25751379\n",
      " 1.30385378 1.28780137 1.32202633 1.34019888 1.28446973 1.16695392\n",
      " 1.23176934 1.18058333 1.24963901 1.24963901 1.13121457 1.13424333\n",
      " 1.19784725 1.15332451 1.14605549 1.02853968 0.96887314 0.97735367\n",
      " 1.03550582 1.04852948 1.05186111 0.99734347 0.85590047 0.96160412\n",
      " 1.02308791 0.97582233 0.98027849 0.9872542 ]\n",
      "1/1 [==============================] - 0s 62ms/step\n",
      "3 day output [[0.9949204]]\n",
      "4 day input [0.85892923 0.91072099 0.93525393 0.96433001 0.92162452 0.8580206\n",
      " 0.91072099 0.90587498 0.913144   0.95675811 1.00128085 1.0294483\n",
      " 1.01491027 1.05428412 1.06064451 1.08275445 1.08638896 1.04610647\n",
      " 1.1121334  1.14817562 1.12061392 1.16695392 1.20663065 1.14999287\n",
      " 1.16483379 1.14878137 1.11485928 1.06064451 1.0833602  1.10395575\n",
      " 1.08941771 1.0670049  1.04398634 1.04792373 1.08881196 1.08881196\n",
      " 1.11758516 1.12515706 1.14544974 1.22692333 1.24024986 1.26538856\n",
      " 1.28174385 1.26266267 1.2835611  1.28719561 1.33595862 1.31960333\n",
      " 1.3850245  1.39562515 1.40774018 1.4125862  1.36564045 1.33959313\n",
      " 1.34837653 1.34898228 1.36261169 1.4425709  1.42863861 1.4050143\n",
      " 1.26417705 1.36261169 1.22238019 1.17543444 1.16271366 1.26902307\n",
      " 1.24873039 1.15423314 1.17906895 1.3586743  1.25751379 1.30385378\n",
      " 1.28780137 1.32202633 1.34019888 1.28446973 1.16695392 1.23176934\n",
      " 1.18058333 1.24963901 1.24963901 1.13121457 1.13424333 1.19784725\n",
      " 1.15332451 1.14605549 1.02853968 0.96887314 0.97735367 1.03550582\n",
      " 1.04852948 1.05186111 0.99734347 0.85590047 0.96160412 1.02308791\n",
      " 0.97582233 0.98027849 0.9872542  0.99492037]\n",
      "1/1 [==============================] - 0s 65ms/step\n",
      "4 day output [[1.0026987]]\n",
      "5 day input [0.91072099 0.93525393 0.96433001 0.92162452 0.8580206  0.91072099\n",
      " 0.90587498 0.913144   0.95675811 1.00128085 1.0294483  1.01491027\n",
      " 1.05428412 1.06064451 1.08275445 1.08638896 1.04610647 1.1121334\n",
      " 1.14817562 1.12061392 1.16695392 1.20663065 1.14999287 1.16483379\n",
      " 1.14878137 1.11485928 1.06064451 1.0833602  1.10395575 1.08941771\n",
      " 1.0670049  1.04398634 1.04792373 1.08881196 1.08881196 1.11758516\n",
      " 1.12515706 1.14544974 1.22692333 1.24024986 1.26538856 1.28174385\n",
      " 1.26266267 1.2835611  1.28719561 1.33595862 1.31960333 1.3850245\n",
      " 1.39562515 1.40774018 1.4125862  1.36564045 1.33959313 1.34837653\n",
      " 1.34898228 1.36261169 1.4425709  1.42863861 1.4050143  1.26417705\n",
      " 1.36261169 1.22238019 1.17543444 1.16271366 1.26902307 1.24873039\n",
      " 1.15423314 1.17906895 1.3586743  1.25751379 1.30385378 1.28780137\n",
      " 1.32202633 1.34019888 1.28446973 1.16695392 1.23176934 1.18058333\n",
      " 1.24963901 1.24963901 1.13121457 1.13424333 1.19784725 1.15332451\n",
      " 1.14605549 1.02853968 0.96887314 0.97735367 1.03550582 1.04852948\n",
      " 1.05186111 0.99734347 0.85590047 0.96160412 1.02308791 0.97582233\n",
      " 0.98027849 0.9872542  0.99492037 1.00269866]\n",
      "1/1 [==============================] - 0s 65ms/step\n",
      "5 day output [[1.0104413]]\n",
      "6 day input [0.93525393 0.96433001 0.92162452 0.8580206  0.91072099 0.90587498\n",
      " 0.913144   0.95675811 1.00128085 1.0294483  1.01491027 1.05428412\n",
      " 1.06064451 1.08275445 1.08638896 1.04610647 1.1121334  1.14817562\n",
      " 1.12061392 1.16695392 1.20663065 1.14999287 1.16483379 1.14878137\n",
      " 1.11485928 1.06064451 1.0833602  1.10395575 1.08941771 1.0670049\n",
      " 1.04398634 1.04792373 1.08881196 1.08881196 1.11758516 1.12515706\n",
      " 1.14544974 1.22692333 1.24024986 1.26538856 1.28174385 1.26266267\n",
      " 1.2835611  1.28719561 1.33595862 1.31960333 1.3850245  1.39562515\n",
      " 1.40774018 1.4125862  1.36564045 1.33959313 1.34837653 1.34898228\n",
      " 1.36261169 1.4425709  1.42863861 1.4050143  1.26417705 1.36261169\n",
      " 1.22238019 1.17543444 1.16271366 1.26902307 1.24873039 1.15423314\n",
      " 1.17906895 1.3586743  1.25751379 1.30385378 1.28780137 1.32202633\n",
      " 1.34019888 1.28446973 1.16695392 1.23176934 1.18058333 1.24963901\n",
      " 1.24963901 1.13121457 1.13424333 1.19784725 1.15332451 1.14605549\n",
      " 1.02853968 0.96887314 0.97735367 1.03550582 1.04852948 1.05186111\n",
      " 0.99734347 0.85590047 0.96160412 1.02308791 0.97582233 0.98027849\n",
      " 0.9872542  0.99492037 1.00269866 1.0104413 ]\n",
      "1/1 [==============================] - 0s 66ms/step\n",
      "6 day output [[1.0180986]]\n",
      "7 day input [0.96433001 0.92162452 0.8580206  0.91072099 0.90587498 0.913144\n",
      " 0.95675811 1.00128085 1.0294483  1.01491027 1.05428412 1.06064451\n",
      " 1.08275445 1.08638896 1.04610647 1.1121334  1.14817562 1.12061392\n",
      " 1.16695392 1.20663065 1.14999287 1.16483379 1.14878137 1.11485928\n",
      " 1.06064451 1.0833602  1.10395575 1.08941771 1.0670049  1.04398634\n",
      " 1.04792373 1.08881196 1.08881196 1.11758516 1.12515706 1.14544974\n",
      " 1.22692333 1.24024986 1.26538856 1.28174385 1.26266267 1.2835611\n",
      " 1.28719561 1.33595862 1.31960333 1.3850245  1.39562515 1.40774018\n",
      " 1.4125862  1.36564045 1.33959313 1.34837653 1.34898228 1.36261169\n",
      " 1.4425709  1.42863861 1.4050143  1.26417705 1.36261169 1.22238019\n",
      " 1.17543444 1.16271366 1.26902307 1.24873039 1.15423314 1.17906895\n",
      " 1.3586743  1.25751379 1.30385378 1.28780137 1.32202633 1.34019888\n",
      " 1.28446973 1.16695392 1.23176934 1.18058333 1.24963901 1.24963901\n",
      " 1.13121457 1.13424333 1.19784725 1.15332451 1.14605549 1.02853968\n",
      " 0.96887314 0.97735367 1.03550582 1.04852948 1.05186111 0.99734347\n",
      " 0.85590047 0.96160412 1.02308791 0.97582233 0.98027849 0.9872542\n",
      " 0.99492037 1.00269866 1.0104413  1.01809859]\n"
     ]
    },
    {
     "name": "stdout",
     "output_type": "stream",
     "text": [
      "1/1 [==============================] - 0s 69ms/step\n",
      "7 day output [[1.0256321]]\n",
      "8 day input [0.92162452 0.8580206  0.91072099 0.90587498 0.913144   0.95675811\n",
      " 1.00128085 1.0294483  1.01491027 1.05428412 1.06064451 1.08275445\n",
      " 1.08638896 1.04610647 1.1121334  1.14817562 1.12061392 1.16695392\n",
      " 1.20663065 1.14999287 1.16483379 1.14878137 1.11485928 1.06064451\n",
      " 1.0833602  1.10395575 1.08941771 1.0670049  1.04398634 1.04792373\n",
      " 1.08881196 1.08881196 1.11758516 1.12515706 1.14544974 1.22692333\n",
      " 1.24024986 1.26538856 1.28174385 1.26266267 1.2835611  1.28719561\n",
      " 1.33595862 1.31960333 1.3850245  1.39562515 1.40774018 1.4125862\n",
      " 1.36564045 1.33959313 1.34837653 1.34898228 1.36261169 1.4425709\n",
      " 1.42863861 1.4050143  1.26417705 1.36261169 1.22238019 1.17543444\n",
      " 1.16271366 1.26902307 1.24873039 1.15423314 1.17906895 1.3586743\n",
      " 1.25751379 1.30385378 1.28780137 1.32202633 1.34019888 1.28446973\n",
      " 1.16695392 1.23176934 1.18058333 1.24963901 1.24963901 1.13121457\n",
      " 1.13424333 1.19784725 1.15332451 1.14605549 1.02853968 0.96887314\n",
      " 0.97735367 1.03550582 1.04852948 1.05186111 0.99734347 0.85590047\n",
      " 0.96160412 1.02308791 0.97582233 0.98027849 0.9872542  0.99492037\n",
      " 1.00269866 1.0104413  1.01809859 1.02563214]\n",
      "1/1 [==============================] - 0s 59ms/step\n",
      "8 day output [[1.0330116]]\n",
      "9 day input [0.8580206  0.91072099 0.90587498 0.913144   0.95675811 1.00128085\n",
      " 1.0294483  1.01491027 1.05428412 1.06064451 1.08275445 1.08638896\n",
      " 1.04610647 1.1121334  1.14817562 1.12061392 1.16695392 1.20663065\n",
      " 1.14999287 1.16483379 1.14878137 1.11485928 1.06064451 1.0833602\n",
      " 1.10395575 1.08941771 1.0670049  1.04398634 1.04792373 1.08881196\n",
      " 1.08881196 1.11758516 1.12515706 1.14544974 1.22692333 1.24024986\n",
      " 1.26538856 1.28174385 1.26266267 1.2835611  1.28719561 1.33595862\n",
      " 1.31960333 1.3850245  1.39562515 1.40774018 1.4125862  1.36564045\n",
      " 1.33959313 1.34837653 1.34898228 1.36261169 1.4425709  1.42863861\n",
      " 1.4050143  1.26417705 1.36261169 1.22238019 1.17543444 1.16271366\n",
      " 1.26902307 1.24873039 1.15423314 1.17906895 1.3586743  1.25751379\n",
      " 1.30385378 1.28780137 1.32202633 1.34019888 1.28446973 1.16695392\n",
      " 1.23176934 1.18058333 1.24963901 1.24963901 1.13121457 1.13424333\n",
      " 1.19784725 1.15332451 1.14605549 1.02853968 0.96887314 0.97735367\n",
      " 1.03550582 1.04852948 1.05186111 0.99734347 0.85590047 0.96160412\n",
      " 1.02308791 0.97582233 0.98027849 0.9872542  0.99492037 1.00269866\n",
      " 1.0104413  1.01809859 1.02563214 1.03301156]\n",
      "1/1 [==============================] - 0s 67ms/step\n",
      "9 day output [[1.0402259]]\n",
      "10 day input [0.91072099 0.90587498 0.913144   0.95675811 1.00128085 1.0294483\n",
      " 1.01491027 1.05428412 1.06064451 1.08275445 1.08638896 1.04610647\n",
      " 1.1121334  1.14817562 1.12061392 1.16695392 1.20663065 1.14999287\n",
      " 1.16483379 1.14878137 1.11485928 1.06064451 1.0833602  1.10395575\n",
      " 1.08941771 1.0670049  1.04398634 1.04792373 1.08881196 1.08881196\n",
      " 1.11758516 1.12515706 1.14544974 1.22692333 1.24024986 1.26538856\n",
      " 1.28174385 1.26266267 1.2835611  1.28719561 1.33595862 1.31960333\n",
      " 1.3850245  1.39562515 1.40774018 1.4125862  1.36564045 1.33959313\n",
      " 1.34837653 1.34898228 1.36261169 1.4425709  1.42863861 1.4050143\n",
      " 1.26417705 1.36261169 1.22238019 1.17543444 1.16271366 1.26902307\n",
      " 1.24873039 1.15423314 1.17906895 1.3586743  1.25751379 1.30385378\n",
      " 1.28780137 1.32202633 1.34019888 1.28446973 1.16695392 1.23176934\n",
      " 1.18058333 1.24963901 1.24963901 1.13121457 1.13424333 1.19784725\n",
      " 1.15332451 1.14605549 1.02853968 0.96887314 0.97735367 1.03550582\n",
      " 1.04852948 1.05186111 0.99734347 0.85590047 0.96160412 1.02308791\n",
      " 0.97582233 0.98027849 0.9872542  0.99492037 1.00269866 1.0104413\n",
      " 1.01809859 1.02563214 1.03301156 1.04022586]\n",
      "1/1 [==============================] - 0s 58ms/step\n",
      "10 day output [[1.047289]]\n",
      "11 day input [0.90587498 0.913144   0.95675811 1.00128085 1.0294483  1.01491027\n",
      " 1.05428412 1.06064451 1.08275445 1.08638896 1.04610647 1.1121334\n",
      " 1.14817562 1.12061392 1.16695392 1.20663065 1.14999287 1.16483379\n",
      " 1.14878137 1.11485928 1.06064451 1.0833602  1.10395575 1.08941771\n",
      " 1.0670049  1.04398634 1.04792373 1.08881196 1.08881196 1.11758516\n",
      " 1.12515706 1.14544974 1.22692333 1.24024986 1.26538856 1.28174385\n",
      " 1.26266267 1.2835611  1.28719561 1.33595862 1.31960333 1.3850245\n",
      " 1.39562515 1.40774018 1.4125862  1.36564045 1.33959313 1.34837653\n",
      " 1.34898228 1.36261169 1.4425709  1.42863861 1.4050143  1.26417705\n",
      " 1.36261169 1.22238019 1.17543444 1.16271366 1.26902307 1.24873039\n",
      " 1.15423314 1.17906895 1.3586743  1.25751379 1.30385378 1.28780137\n",
      " 1.32202633 1.34019888 1.28446973 1.16695392 1.23176934 1.18058333\n",
      " 1.24963901 1.24963901 1.13121457 1.13424333 1.19784725 1.15332451\n",
      " 1.14605549 1.02853968 0.96887314 0.97735367 1.03550582 1.04852948\n",
      " 1.05186111 0.99734347 0.85590047 0.96160412 1.02308791 0.97582233\n",
      " 0.98027849 0.9872542  0.99492037 1.00269866 1.0104413  1.01809859\n",
      " 1.02563214 1.03301156 1.04022586 1.04728901]\n",
      "1/1 [==============================] - 0s 58ms/step\n",
      "11 day output [[1.0542369]]\n",
      "12 day input [0.913144   0.95675811 1.00128085 1.0294483  1.01491027 1.05428412\n",
      " 1.06064451 1.08275445 1.08638896 1.04610647 1.1121334  1.14817562\n",
      " 1.12061392 1.16695392 1.20663065 1.14999287 1.16483379 1.14878137\n",
      " 1.11485928 1.06064451 1.0833602  1.10395575 1.08941771 1.0670049\n",
      " 1.04398634 1.04792373 1.08881196 1.08881196 1.11758516 1.12515706\n",
      " 1.14544974 1.22692333 1.24024986 1.26538856 1.28174385 1.26266267\n",
      " 1.2835611  1.28719561 1.33595862 1.31960333 1.3850245  1.39562515\n",
      " 1.40774018 1.4125862  1.36564045 1.33959313 1.34837653 1.34898228\n",
      " 1.36261169 1.4425709  1.42863861 1.4050143  1.26417705 1.36261169\n",
      " 1.22238019 1.17543444 1.16271366 1.26902307 1.24873039 1.15423314\n",
      " 1.17906895 1.3586743  1.25751379 1.30385378 1.28780137 1.32202633\n",
      " 1.34019888 1.28446973 1.16695392 1.23176934 1.18058333 1.24963901\n",
      " 1.24963901 1.13121457 1.13424333 1.19784725 1.15332451 1.14605549\n",
      " 1.02853968 0.96887314 0.97735367 1.03550582 1.04852948 1.05186111\n",
      " 0.99734347 0.85590047 0.96160412 1.02308791 0.97582233 0.98027849\n",
      " 0.9872542  0.99492037 1.00269866 1.0104413  1.01809859 1.02563214\n",
      " 1.03301156 1.04022586 1.04728901 1.05423689]\n",
      "1/1 [==============================] - 0s 63ms/step\n",
      "12 day output [[1.0611211]]\n",
      "13 day input [0.95675811 1.00128085 1.0294483  1.01491027 1.05428412 1.06064451\n",
      " 1.08275445 1.08638896 1.04610647 1.1121334  1.14817562 1.12061392\n",
      " 1.16695392 1.20663065 1.14999287 1.16483379 1.14878137 1.11485928\n",
      " 1.06064451 1.0833602  1.10395575 1.08941771 1.0670049  1.04398634\n",
      " 1.04792373 1.08881196 1.08881196 1.11758516 1.12515706 1.14544974\n",
      " 1.22692333 1.24024986 1.26538856 1.28174385 1.26266267 1.2835611\n",
      " 1.28719561 1.33595862 1.31960333 1.3850245  1.39562515 1.40774018\n",
      " 1.4125862  1.36564045 1.33959313 1.34837653 1.34898228 1.36261169\n",
      " 1.4425709  1.42863861 1.4050143  1.26417705 1.36261169 1.22238019\n",
      " 1.17543444 1.16271366 1.26902307 1.24873039 1.15423314 1.17906895\n",
      " 1.3586743  1.25751379 1.30385378 1.28780137 1.32202633 1.34019888\n",
      " 1.28446973 1.16695392 1.23176934 1.18058333 1.24963901 1.24963901\n",
      " 1.13121457 1.13424333 1.19784725 1.15332451 1.14605549 1.02853968\n",
      " 0.96887314 0.97735367 1.03550582 1.04852948 1.05186111 0.99734347\n",
      " 0.85590047 0.96160412 1.02308791 0.97582233 0.98027849 0.9872542\n",
      " 0.99492037 1.00269866 1.0104413  1.01809859 1.02563214 1.03301156\n",
      " 1.04022586 1.04728901 1.05423689 1.06112111]\n",
      "1/1 [==============================] - 0s 56ms/step\n",
      "13 day output [[1.0680019]]\n",
      "14 day input [1.00128085 1.0294483  1.01491027 1.05428412 1.06064451 1.08275445\n",
      " 1.08638896 1.04610647 1.1121334  1.14817562 1.12061392 1.16695392\n",
      " 1.20663065 1.14999287 1.16483379 1.14878137 1.11485928 1.06064451\n",
      " 1.0833602  1.10395575 1.08941771 1.0670049  1.04398634 1.04792373\n",
      " 1.08881196 1.08881196 1.11758516 1.12515706 1.14544974 1.22692333\n",
      " 1.24024986 1.26538856 1.28174385 1.26266267 1.2835611  1.28719561\n",
      " 1.33595862 1.31960333 1.3850245  1.39562515 1.40774018 1.4125862\n",
      " 1.36564045 1.33959313 1.34837653 1.34898228 1.36261169 1.4425709\n",
      " 1.42863861 1.4050143  1.26417705 1.36261169 1.22238019 1.17543444\n",
      " 1.16271366 1.26902307 1.24873039 1.15423314 1.17906895 1.3586743\n",
      " 1.25751379 1.30385378 1.28780137 1.32202633 1.34019888 1.28446973\n",
      " 1.16695392 1.23176934 1.18058333 1.24963901 1.24963901 1.13121457\n",
      " 1.13424333 1.19784725 1.15332451 1.14605549 1.02853968 0.96887314\n",
      " 0.97735367 1.03550582 1.04852948 1.05186111 0.99734347 0.85590047\n",
      " 0.96160412 1.02308791 0.97582233 0.98027849 0.9872542  0.99492037\n",
      " 1.00269866 1.0104413  1.01809859 1.02563214 1.03301156 1.04022586\n",
      " 1.04728901 1.05423689 1.06112111 1.06800187]\n"
     ]
    },
    {
     "name": "stdout",
     "output_type": "stream",
     "text": [
      "1/1 [==============================] - 0s 56ms/step\n",
      "14 day output [[1.0749396]]\n",
      "15 day input [1.0294483  1.01491027 1.05428412 1.06064451 1.08275445 1.08638896\n",
      " 1.04610647 1.1121334  1.14817562 1.12061392 1.16695392 1.20663065\n",
      " 1.14999287 1.16483379 1.14878137 1.11485928 1.06064451 1.0833602\n",
      " 1.10395575 1.08941771 1.0670049  1.04398634 1.04792373 1.08881196\n",
      " 1.08881196 1.11758516 1.12515706 1.14544974 1.22692333 1.24024986\n",
      " 1.26538856 1.28174385 1.26266267 1.2835611  1.28719561 1.33595862\n",
      " 1.31960333 1.3850245  1.39562515 1.40774018 1.4125862  1.36564045\n",
      " 1.33959313 1.34837653 1.34898228 1.36261169 1.4425709  1.42863861\n",
      " 1.4050143  1.26417705 1.36261169 1.22238019 1.17543444 1.16271366\n",
      " 1.26902307 1.24873039 1.15423314 1.17906895 1.3586743  1.25751379\n",
      " 1.30385378 1.28780137 1.32202633 1.34019888 1.28446973 1.16695392\n",
      " 1.23176934 1.18058333 1.24963901 1.24963901 1.13121457 1.13424333\n",
      " 1.19784725 1.15332451 1.14605549 1.02853968 0.96887314 0.97735367\n",
      " 1.03550582 1.04852948 1.05186111 0.99734347 0.85590047 0.96160412\n",
      " 1.02308791 0.97582233 0.98027849 0.9872542  0.99492037 1.00269866\n",
      " 1.0104413  1.01809859 1.02563214 1.03301156 1.04022586 1.04728901\n",
      " 1.05423689 1.06112111 1.06800187 1.07493961]\n",
      "1/1 [==============================] - 0s 56ms/step\n",
      "15 day output [[1.0819914]]\n",
      "16 day input [1.01491027 1.05428412 1.06064451 1.08275445 1.08638896 1.04610647\n",
      " 1.1121334  1.14817562 1.12061392 1.16695392 1.20663065 1.14999287\n",
      " 1.16483379 1.14878137 1.11485928 1.06064451 1.0833602  1.10395575\n",
      " 1.08941771 1.0670049  1.04398634 1.04792373 1.08881196 1.08881196\n",
      " 1.11758516 1.12515706 1.14544974 1.22692333 1.24024986 1.26538856\n",
      " 1.28174385 1.26266267 1.2835611  1.28719561 1.33595862 1.31960333\n",
      " 1.3850245  1.39562515 1.40774018 1.4125862  1.36564045 1.33959313\n",
      " 1.34837653 1.34898228 1.36261169 1.4425709  1.42863861 1.4050143\n",
      " 1.26417705 1.36261169 1.22238019 1.17543444 1.16271366 1.26902307\n",
      " 1.24873039 1.15423314 1.17906895 1.3586743  1.25751379 1.30385378\n",
      " 1.28780137 1.32202633 1.34019888 1.28446973 1.16695392 1.23176934\n",
      " 1.18058333 1.24963901 1.24963901 1.13121457 1.13424333 1.19784725\n",
      " 1.15332451 1.14605549 1.02853968 0.96887314 0.97735367 1.03550582\n",
      " 1.04852948 1.05186111 0.99734347 0.85590047 0.96160412 1.02308791\n",
      " 0.97582233 0.98027849 0.9872542  0.99492037 1.00269866 1.0104413\n",
      " 1.01809859 1.02563214 1.03301156 1.04022586 1.04728901 1.05423689\n",
      " 1.06112111 1.06800187 1.07493961 1.08199143]\n",
      "1/1 [==============================] - 0s 54ms/step\n",
      "16 day output [[1.0892067]]\n",
      "17 day input [1.05428412 1.06064451 1.08275445 1.08638896 1.04610647 1.1121334\n",
      " 1.14817562 1.12061392 1.16695392 1.20663065 1.14999287 1.16483379\n",
      " 1.14878137 1.11485928 1.06064451 1.0833602  1.10395575 1.08941771\n",
      " 1.0670049  1.04398634 1.04792373 1.08881196 1.08881196 1.11758516\n",
      " 1.12515706 1.14544974 1.22692333 1.24024986 1.26538856 1.28174385\n",
      " 1.26266267 1.2835611  1.28719561 1.33595862 1.31960333 1.3850245\n",
      " 1.39562515 1.40774018 1.4125862  1.36564045 1.33959313 1.34837653\n",
      " 1.34898228 1.36261169 1.4425709  1.42863861 1.4050143  1.26417705\n",
      " 1.36261169 1.22238019 1.17543444 1.16271366 1.26902307 1.24873039\n",
      " 1.15423314 1.17906895 1.3586743  1.25751379 1.30385378 1.28780137\n",
      " 1.32202633 1.34019888 1.28446973 1.16695392 1.23176934 1.18058333\n",
      " 1.24963901 1.24963901 1.13121457 1.13424333 1.19784725 1.15332451\n",
      " 1.14605549 1.02853968 0.96887314 0.97735367 1.03550582 1.04852948\n",
      " 1.05186111 0.99734347 0.85590047 0.96160412 1.02308791 0.97582233\n",
      " 0.98027849 0.9872542  0.99492037 1.00269866 1.0104413  1.01809859\n",
      " 1.02563214 1.03301156 1.04022586 1.04728901 1.05423689 1.06112111\n",
      " 1.06800187 1.07493961 1.08199143 1.0892067 ]\n",
      "1/1 [==============================] - 0s 60ms/step\n",
      "17 day output [[1.0966243]]\n",
      "18 day input [1.06064451 1.08275445 1.08638896 1.04610647 1.1121334  1.14817562\n",
      " 1.12061392 1.16695392 1.20663065 1.14999287 1.16483379 1.14878137\n",
      " 1.11485928 1.06064451 1.0833602  1.10395575 1.08941771 1.0670049\n",
      " 1.04398634 1.04792373 1.08881196 1.08881196 1.11758516 1.12515706\n",
      " 1.14544974 1.22692333 1.24024986 1.26538856 1.28174385 1.26266267\n",
      " 1.2835611  1.28719561 1.33595862 1.31960333 1.3850245  1.39562515\n",
      " 1.40774018 1.4125862  1.36564045 1.33959313 1.34837653 1.34898228\n",
      " 1.36261169 1.4425709  1.42863861 1.4050143  1.26417705 1.36261169\n",
      " 1.22238019 1.17543444 1.16271366 1.26902307 1.24873039 1.15423314\n",
      " 1.17906895 1.3586743  1.25751379 1.30385378 1.28780137 1.32202633\n",
      " 1.34019888 1.28446973 1.16695392 1.23176934 1.18058333 1.24963901\n",
      " 1.24963901 1.13121457 1.13424333 1.19784725 1.15332451 1.14605549\n",
      " 1.02853968 0.96887314 0.97735367 1.03550582 1.04852948 1.05186111\n",
      " 0.99734347 0.85590047 0.96160412 1.02308791 0.97582233 0.98027849\n",
      " 0.9872542  0.99492037 1.00269866 1.0104413  1.01809859 1.02563214\n",
      " 1.03301156 1.04022586 1.04728901 1.05423689 1.06112111 1.06800187\n",
      " 1.07493961 1.08199143 1.0892067  1.09662426]\n",
      "1/1 [==============================] - 0s 65ms/step\n",
      "18 day output [[1.1042726]]\n",
      "19 day input [1.08275445 1.08638896 1.04610647 1.1121334  1.14817562 1.12061392\n",
      " 1.16695392 1.20663065 1.14999287 1.16483379 1.14878137 1.11485928\n",
      " 1.06064451 1.0833602  1.10395575 1.08941771 1.0670049  1.04398634\n",
      " 1.04792373 1.08881196 1.08881196 1.11758516 1.12515706 1.14544974\n",
      " 1.22692333 1.24024986 1.26538856 1.28174385 1.26266267 1.2835611\n",
      " 1.28719561 1.33595862 1.31960333 1.3850245  1.39562515 1.40774018\n",
      " 1.4125862  1.36564045 1.33959313 1.34837653 1.34898228 1.36261169\n",
      " 1.4425709  1.42863861 1.4050143  1.26417705 1.36261169 1.22238019\n",
      " 1.17543444 1.16271366 1.26902307 1.24873039 1.15423314 1.17906895\n",
      " 1.3586743  1.25751379 1.30385378 1.28780137 1.32202633 1.34019888\n",
      " 1.28446973 1.16695392 1.23176934 1.18058333 1.24963901 1.24963901\n",
      " 1.13121457 1.13424333 1.19784725 1.15332451 1.14605549 1.02853968\n",
      " 0.96887314 0.97735367 1.03550582 1.04852948 1.05186111 0.99734347\n",
      " 0.85590047 0.96160412 1.02308791 0.97582233 0.98027849 0.9872542\n",
      " 0.99492037 1.00269866 1.0104413  1.01809859 1.02563214 1.03301156\n",
      " 1.04022586 1.04728901 1.05423689 1.06112111 1.06800187 1.07493961\n",
      " 1.08199143 1.0892067  1.09662426 1.1042726 ]\n",
      "1/1 [==============================] - 0s 65ms/step\n",
      "19 day output [[1.1121696]]\n",
      "20 day input [1.08638896 1.04610647 1.1121334  1.14817562 1.12061392 1.16695392\n",
      " 1.20663065 1.14999287 1.16483379 1.14878137 1.11485928 1.06064451\n",
      " 1.0833602  1.10395575 1.08941771 1.0670049  1.04398634 1.04792373\n",
      " 1.08881196 1.08881196 1.11758516 1.12515706 1.14544974 1.22692333\n",
      " 1.24024986 1.26538856 1.28174385 1.26266267 1.2835611  1.28719561\n",
      " 1.33595862 1.31960333 1.3850245  1.39562515 1.40774018 1.4125862\n",
      " 1.36564045 1.33959313 1.34837653 1.34898228 1.36261169 1.4425709\n",
      " 1.42863861 1.4050143  1.26417705 1.36261169 1.22238019 1.17543444\n",
      " 1.16271366 1.26902307 1.24873039 1.15423314 1.17906895 1.3586743\n",
      " 1.25751379 1.30385378 1.28780137 1.32202633 1.34019888 1.28446973\n",
      " 1.16695392 1.23176934 1.18058333 1.24963901 1.24963901 1.13121457\n",
      " 1.13424333 1.19784725 1.15332451 1.14605549 1.02853968 0.96887314\n",
      " 0.97735367 1.03550582 1.04852948 1.05186111 0.99734347 0.85590047\n",
      " 0.96160412 1.02308791 0.97582233 0.98027849 0.9872542  0.99492037\n",
      " 1.00269866 1.0104413  1.01809859 1.02563214 1.03301156 1.04022586\n",
      " 1.04728901 1.05423689 1.06112111 1.06800187 1.07493961 1.08199143\n",
      " 1.0892067  1.09662426 1.1042726  1.11216962]\n",
      "1/1 [==============================] - 0s 68ms/step\n",
      "20 day output [[1.1203222]]\n",
      "21 day input [1.04610647 1.1121334  1.14817562 1.12061392 1.16695392 1.20663065\n",
      " 1.14999287 1.16483379 1.14878137 1.11485928 1.06064451 1.0833602\n",
      " 1.10395575 1.08941771 1.0670049  1.04398634 1.04792373 1.08881196\n",
      " 1.08881196 1.11758516 1.12515706 1.14544974 1.22692333 1.24024986\n",
      " 1.26538856 1.28174385 1.26266267 1.2835611  1.28719561 1.33595862\n",
      " 1.31960333 1.3850245  1.39562515 1.40774018 1.4125862  1.36564045\n",
      " 1.33959313 1.34837653 1.34898228 1.36261169 1.4425709  1.42863861\n",
      " 1.4050143  1.26417705 1.36261169 1.22238019 1.17543444 1.16271366\n",
      " 1.26902307 1.24873039 1.15423314 1.17906895 1.3586743  1.25751379\n",
      " 1.30385378 1.28780137 1.32202633 1.34019888 1.28446973 1.16695392\n",
      " 1.23176934 1.18058333 1.24963901 1.24963901 1.13121457 1.13424333\n",
      " 1.19784725 1.15332451 1.14605549 1.02853968 0.96887314 0.97735367\n",
      " 1.03550582 1.04852948 1.05186111 0.99734347 0.85590047 0.96160412\n",
      " 1.02308791 0.97582233 0.98027849 0.9872542  0.99492037 1.00269866\n",
      " 1.0104413  1.01809859 1.02563214 1.03301156 1.04022586 1.04728901\n",
      " 1.05423689 1.06112111 1.06800187 1.07493961 1.08199143 1.0892067\n",
      " 1.09662426 1.1042726  1.11216962 1.12032223]\n"
     ]
    },
    {
     "name": "stdout",
     "output_type": "stream",
     "text": [
      "1/1 [==============================] - 0s 62ms/step\n",
      "21 day output [[1.1287299]]\n",
      "22 day input [1.1121334  1.14817562 1.12061392 1.16695392 1.20663065 1.14999287\n",
      " 1.16483379 1.14878137 1.11485928 1.06064451 1.0833602  1.10395575\n",
      " 1.08941771 1.0670049  1.04398634 1.04792373 1.08881196 1.08881196\n",
      " 1.11758516 1.12515706 1.14544974 1.22692333 1.24024986 1.26538856\n",
      " 1.28174385 1.26266267 1.2835611  1.28719561 1.33595862 1.31960333\n",
      " 1.3850245  1.39562515 1.40774018 1.4125862  1.36564045 1.33959313\n",
      " 1.34837653 1.34898228 1.36261169 1.4425709  1.42863861 1.4050143\n",
      " 1.26417705 1.36261169 1.22238019 1.17543444 1.16271366 1.26902307\n",
      " 1.24873039 1.15423314 1.17906895 1.3586743  1.25751379 1.30385378\n",
      " 1.28780137 1.32202633 1.34019888 1.28446973 1.16695392 1.23176934\n",
      " 1.18058333 1.24963901 1.24963901 1.13121457 1.13424333 1.19784725\n",
      " 1.15332451 1.14605549 1.02853968 0.96887314 0.97735367 1.03550582\n",
      " 1.04852948 1.05186111 0.99734347 0.85590047 0.96160412 1.02308791\n",
      " 0.97582233 0.98027849 0.9872542  0.99492037 1.00269866 1.0104413\n",
      " 1.01809859 1.02563214 1.03301156 1.04022586 1.04728901 1.05423689\n",
      " 1.06112111 1.06800187 1.07493961 1.08199143 1.0892067  1.09662426\n",
      " 1.1042726  1.11216962 1.12032223 1.12872994]\n",
      "1/1 [==============================] - 0s 57ms/step\n",
      "22 day output [[1.1373847]]\n",
      "23 day input [1.14817562 1.12061392 1.16695392 1.20663065 1.14999287 1.16483379\n",
      " 1.14878137 1.11485928 1.06064451 1.0833602  1.10395575 1.08941771\n",
      " 1.0670049  1.04398634 1.04792373 1.08881196 1.08881196 1.11758516\n",
      " 1.12515706 1.14544974 1.22692333 1.24024986 1.26538856 1.28174385\n",
      " 1.26266267 1.2835611  1.28719561 1.33595862 1.31960333 1.3850245\n",
      " 1.39562515 1.40774018 1.4125862  1.36564045 1.33959313 1.34837653\n",
      " 1.34898228 1.36261169 1.4425709  1.42863861 1.4050143  1.26417705\n",
      " 1.36261169 1.22238019 1.17543444 1.16271366 1.26902307 1.24873039\n",
      " 1.15423314 1.17906895 1.3586743  1.25751379 1.30385378 1.28780137\n",
      " 1.32202633 1.34019888 1.28446973 1.16695392 1.23176934 1.18058333\n",
      " 1.24963901 1.24963901 1.13121457 1.13424333 1.19784725 1.15332451\n",
      " 1.14605549 1.02853968 0.96887314 0.97735367 1.03550582 1.04852948\n",
      " 1.05186111 0.99734347 0.85590047 0.96160412 1.02308791 0.97582233\n",
      " 0.98027849 0.9872542  0.99492037 1.00269866 1.0104413  1.01809859\n",
      " 1.02563214 1.03301156 1.04022586 1.04728901 1.05423689 1.06112111\n",
      " 1.06800187 1.07493961 1.08199143 1.0892067  1.09662426 1.1042726\n",
      " 1.11216962 1.12032223 1.12872994 1.13738465]\n",
      "1/1 [==============================] - 0s 55ms/step\n",
      "23 day output [[1.1462734]]\n",
      "24 day input [1.12061392 1.16695392 1.20663065 1.14999287 1.16483379 1.14878137\n",
      " 1.11485928 1.06064451 1.0833602  1.10395575 1.08941771 1.0670049\n",
      " 1.04398634 1.04792373 1.08881196 1.08881196 1.11758516 1.12515706\n",
      " 1.14544974 1.22692333 1.24024986 1.26538856 1.28174385 1.26266267\n",
      " 1.2835611  1.28719561 1.33595862 1.31960333 1.3850245  1.39562515\n",
      " 1.40774018 1.4125862  1.36564045 1.33959313 1.34837653 1.34898228\n",
      " 1.36261169 1.4425709  1.42863861 1.4050143  1.26417705 1.36261169\n",
      " 1.22238019 1.17543444 1.16271366 1.26902307 1.24873039 1.15423314\n",
      " 1.17906895 1.3586743  1.25751379 1.30385378 1.28780137 1.32202633\n",
      " 1.34019888 1.28446973 1.16695392 1.23176934 1.18058333 1.24963901\n",
      " 1.24963901 1.13121457 1.13424333 1.19784725 1.15332451 1.14605549\n",
      " 1.02853968 0.96887314 0.97735367 1.03550582 1.04852948 1.05186111\n",
      " 0.99734347 0.85590047 0.96160412 1.02308791 0.97582233 0.98027849\n",
      " 0.9872542  0.99492037 1.00269866 1.0104413  1.01809859 1.02563214\n",
      " 1.03301156 1.04022586 1.04728901 1.05423689 1.06112111 1.06800187\n",
      " 1.07493961 1.08199143 1.0892067  1.09662426 1.1042726  1.11216962\n",
      " 1.12032223 1.12872994 1.13738465 1.14627337]\n",
      "1/1 [==============================] - 0s 75ms/step\n",
      "24 day output [[1.1553797]]\n",
      "25 day input [1.16695392 1.20663065 1.14999287 1.16483379 1.14878137 1.11485928\n",
      " 1.06064451 1.0833602  1.10395575 1.08941771 1.0670049  1.04398634\n",
      " 1.04792373 1.08881196 1.08881196 1.11758516 1.12515706 1.14544974\n",
      " 1.22692333 1.24024986 1.26538856 1.28174385 1.26266267 1.2835611\n",
      " 1.28719561 1.33595862 1.31960333 1.3850245  1.39562515 1.40774018\n",
      " 1.4125862  1.36564045 1.33959313 1.34837653 1.34898228 1.36261169\n",
      " 1.4425709  1.42863861 1.4050143  1.26417705 1.36261169 1.22238019\n",
      " 1.17543444 1.16271366 1.26902307 1.24873039 1.15423314 1.17906895\n",
      " 1.3586743  1.25751379 1.30385378 1.28780137 1.32202633 1.34019888\n",
      " 1.28446973 1.16695392 1.23176934 1.18058333 1.24963901 1.24963901\n",
      " 1.13121457 1.13424333 1.19784725 1.15332451 1.14605549 1.02853968\n",
      " 0.96887314 0.97735367 1.03550582 1.04852948 1.05186111 0.99734347\n",
      " 0.85590047 0.96160412 1.02308791 0.97582233 0.98027849 0.9872542\n",
      " 0.99492037 1.00269866 1.0104413  1.01809859 1.02563214 1.03301156\n",
      " 1.04022586 1.04728901 1.05423689 1.06112111 1.06800187 1.07493961\n",
      " 1.08199143 1.0892067  1.09662426 1.1042726  1.11216962 1.12032223\n",
      " 1.12872994 1.13738465 1.14627337 1.15537965]\n",
      "1/1 [==============================] - 0s 53ms/step\n",
      "25 day output [[1.1646848]]\n",
      "26 day input [1.20663065 1.14999287 1.16483379 1.14878137 1.11485928 1.06064451\n",
      " 1.0833602  1.10395575 1.08941771 1.0670049  1.04398634 1.04792373\n",
      " 1.08881196 1.08881196 1.11758516 1.12515706 1.14544974 1.22692333\n",
      " 1.24024986 1.26538856 1.28174385 1.26266267 1.2835611  1.28719561\n",
      " 1.33595862 1.31960333 1.3850245  1.39562515 1.40774018 1.4125862\n",
      " 1.36564045 1.33959313 1.34837653 1.34898228 1.36261169 1.4425709\n",
      " 1.42863861 1.4050143  1.26417705 1.36261169 1.22238019 1.17543444\n",
      " 1.16271366 1.26902307 1.24873039 1.15423314 1.17906895 1.3586743\n",
      " 1.25751379 1.30385378 1.28780137 1.32202633 1.34019888 1.28446973\n",
      " 1.16695392 1.23176934 1.18058333 1.24963901 1.24963901 1.13121457\n",
      " 1.13424333 1.19784725 1.15332451 1.14605549 1.02853968 0.96887314\n",
      " 0.97735367 1.03550582 1.04852948 1.05186111 0.99734347 0.85590047\n",
      " 0.96160412 1.02308791 0.97582233 0.98027849 0.9872542  0.99492037\n",
      " 1.00269866 1.0104413  1.01809859 1.02563214 1.03301156 1.04022586\n",
      " 1.04728901 1.05423689 1.06112111 1.06800187 1.07493961 1.08199143\n",
      " 1.0892067  1.09662426 1.1042726  1.11216962 1.12032223 1.12872994\n",
      " 1.13738465 1.14627337 1.15537965 1.16468477]\n",
      "1/1 [==============================] - 0s 64ms/step\n",
      "26 day output [[1.1741706]]\n",
      "27 day input [1.14999287 1.16483379 1.14878137 1.11485928 1.06064451 1.0833602\n",
      " 1.10395575 1.08941771 1.0670049  1.04398634 1.04792373 1.08881196\n",
      " 1.08881196 1.11758516 1.12515706 1.14544974 1.22692333 1.24024986\n",
      " 1.26538856 1.28174385 1.26266267 1.2835611  1.28719561 1.33595862\n",
      " 1.31960333 1.3850245  1.39562515 1.40774018 1.4125862  1.36564045\n",
      " 1.33959313 1.34837653 1.34898228 1.36261169 1.4425709  1.42863861\n",
      " 1.4050143  1.26417705 1.36261169 1.22238019 1.17543444 1.16271366\n",
      " 1.26902307 1.24873039 1.15423314 1.17906895 1.3586743  1.25751379\n",
      " 1.30385378 1.28780137 1.32202633 1.34019888 1.28446973 1.16695392\n",
      " 1.23176934 1.18058333 1.24963901 1.24963901 1.13121457 1.13424333\n",
      " 1.19784725 1.15332451 1.14605549 1.02853968 0.96887314 0.97735367\n",
      " 1.03550582 1.04852948 1.05186111 0.99734347 0.85590047 0.96160412\n",
      " 1.02308791 0.97582233 0.98027849 0.9872542  0.99492037 1.00269866\n",
      " 1.0104413  1.01809859 1.02563214 1.03301156 1.04022586 1.04728901\n",
      " 1.05423689 1.06112111 1.06800187 1.07493961 1.08199143 1.0892067\n",
      " 1.09662426 1.1042726  1.11216962 1.12032223 1.12872994 1.13738465\n",
      " 1.14627337 1.15537965 1.16468477 1.17417061]\n",
      "1/1 [==============================] - 0s 61ms/step\n",
      "27 day output [[1.1838189]]\n",
      "28 day input [1.16483379 1.14878137 1.11485928 1.06064451 1.0833602  1.10395575\n",
      " 1.08941771 1.0670049  1.04398634 1.04792373 1.08881196 1.08881196\n",
      " 1.11758516 1.12515706 1.14544974 1.22692333 1.24024986 1.26538856\n",
      " 1.28174385 1.26266267 1.2835611  1.28719561 1.33595862 1.31960333\n",
      " 1.3850245  1.39562515 1.40774018 1.4125862  1.36564045 1.33959313\n",
      " 1.34837653 1.34898228 1.36261169 1.4425709  1.42863861 1.4050143\n",
      " 1.26417705 1.36261169 1.22238019 1.17543444 1.16271366 1.26902307\n",
      " 1.24873039 1.15423314 1.17906895 1.3586743  1.25751379 1.30385378\n",
      " 1.28780137 1.32202633 1.34019888 1.28446973 1.16695392 1.23176934\n",
      " 1.18058333 1.24963901 1.24963901 1.13121457 1.13424333 1.19784725\n",
      " 1.15332451 1.14605549 1.02853968 0.96887314 0.97735367 1.03550582\n",
      " 1.04852948 1.05186111 0.99734347 0.85590047 0.96160412 1.02308791\n",
      " 0.97582233 0.98027849 0.9872542  0.99492037 1.00269866 1.0104413\n",
      " 1.01809859 1.02563214 1.03301156 1.04022586 1.04728901 1.05423689\n",
      " 1.06112111 1.06800187 1.07493961 1.08199143 1.0892067  1.09662426\n",
      " 1.1042726  1.11216962 1.12032223 1.12872994 1.13738465 1.14627337\n",
      " 1.15537965 1.16468477 1.17417061 1.18381894]\n"
     ]
    },
    {
     "name": "stdout",
     "output_type": "stream",
     "text": [
      "1/1 [==============================] - 0s 64ms/step\n",
      "28 day output [[1.1936138]]\n",
      "29 day input [1.14878137 1.11485928 1.06064451 1.0833602  1.10395575 1.08941771\n",
      " 1.0670049  1.04398634 1.04792373 1.08881196 1.08881196 1.11758516\n",
      " 1.12515706 1.14544974 1.22692333 1.24024986 1.26538856 1.28174385\n",
      " 1.26266267 1.2835611  1.28719561 1.33595862 1.31960333 1.3850245\n",
      " 1.39562515 1.40774018 1.4125862  1.36564045 1.33959313 1.34837653\n",
      " 1.34898228 1.36261169 1.4425709  1.42863861 1.4050143  1.26417705\n",
      " 1.36261169 1.22238019 1.17543444 1.16271366 1.26902307 1.24873039\n",
      " 1.15423314 1.17906895 1.3586743  1.25751379 1.30385378 1.28780137\n",
      " 1.32202633 1.34019888 1.28446973 1.16695392 1.23176934 1.18058333\n",
      " 1.24963901 1.24963901 1.13121457 1.13424333 1.19784725 1.15332451\n",
      " 1.14605549 1.02853968 0.96887314 0.97735367 1.03550582 1.04852948\n",
      " 1.05186111 0.99734347 0.85590047 0.96160412 1.02308791 0.97582233\n",
      " 0.98027849 0.9872542  0.99492037 1.00269866 1.0104413  1.01809859\n",
      " 1.02563214 1.03301156 1.04022586 1.04728901 1.05423689 1.06112111\n",
      " 1.06800187 1.07493961 1.08199143 1.0892067  1.09662426 1.1042726\n",
      " 1.11216962 1.12032223 1.12872994 1.13738465 1.14627337 1.15537965\n",
      " 1.16468477 1.17417061 1.18381894 1.19361377]\n",
      "1/1 [==============================] - 0s 57ms/step\n",
      "29 day output [[1.2035407]]\n",
      "[[0.9758223295211792], [0.980278491973877], [0.9872542023658752], [0.9949203729629517], [1.0026986598968506], [1.0104413032531738], [1.0180985927581787], [1.0256321430206299], [1.033011555671692], [1.040225863456726], [1.0472890138626099], [1.054236888885498], [1.0611211061477661], [1.0680018663406372], [1.0749396085739136], [1.08199143409729], [1.0892066955566406], [1.0966242551803589], [1.1042726039886475], [1.112169623374939], [1.1203222274780273], [1.1287299394607544], [1.1373846530914307], [1.1462733745574951], [1.1553796529769897], [1.164684772491455], [1.1741706132888794], [1.1838189363479614], [1.1936137676239014], [1.2035406827926636]]\n"
     ]
    }
   ],
   "source": [
    "#demonstrate prediction for next 30 days\n",
    "\n",
    "lst_output = []\n",
    "n_steps = 100\n",
    "i = 0\n",
    "while i<30:\n",
    "    if(len(temp_input)>100):\n",
    "        x_input = np.array(temp_input[1:])\n",
    "        print('{} day input {}'.format(i,x_input))\n",
    "        x_input = x_input.reshape(1,-1)\n",
    "        x_input = x_input.reshape((1,n_steps,1))\n",
    "        \n",
    "        yhat = model.predict(x_input,verbose = 1)\n",
    "        print('{} day output {}'.format(i,yhat))\n",
    "        temp_input.extend(yhat[0].tolist())\n",
    "        temp_input = temp_input[1:]\n",
    "        lst_output.extend(yhat.tolist())\n",
    "        i = i+1\n",
    "    else:\n",
    "        x_input = x_input.reshape((1,n_steps,1))\n",
    "        yhat = model.predict(x_input,verbose = 0)\n",
    "        print(yhat[0])\n",
    "        temp_input.extend(yhat[0].tolist())\n",
    "        print(len(temp_input))\n",
    "        lst_output.extend(yhat.tolist())\n",
    "        i = i+1\n",
    "        \n",
    "print(lst_output)"
   ]
  },
  {
   "cell_type": "code",
   "execution_count": 73,
   "metadata": {
    "scrolled": true
   },
   "outputs": [
    {
     "data": {
      "text/plain": [
       "[[0.9758223295211792],\n",
       " [0.980278491973877],\n",
       " [0.9872542023658752],\n",
       " [0.9949203729629517],\n",
       " [1.0026986598968506],\n",
       " [1.0104413032531738],\n",
       " [1.0180985927581787],\n",
       " [1.0256321430206299],\n",
       " [1.033011555671692],\n",
       " [1.040225863456726],\n",
       " [1.0472890138626099],\n",
       " [1.054236888885498],\n",
       " [1.0611211061477661],\n",
       " [1.0680018663406372],\n",
       " [1.0749396085739136],\n",
       " [1.08199143409729],\n",
       " [1.0892066955566406],\n",
       " [1.0966242551803589],\n",
       " [1.1042726039886475],\n",
       " [1.112169623374939],\n",
       " [1.1203222274780273],\n",
       " [1.1287299394607544],\n",
       " [1.1373846530914307],\n",
       " [1.1462733745574951],\n",
       " [1.1553796529769897],\n",
       " [1.164684772491455],\n",
       " [1.1741706132888794],\n",
       " [1.1838189363479614],\n",
       " [1.1936137676239014],\n",
       " [1.2035406827926636]]"
      ]
     },
     "execution_count": 73,
     "metadata": {},
     "output_type": "execute_result"
    }
   ],
   "source": [
    "lst_output"
   ]
  },
  {
   "cell_type": "code",
   "execution_count": 74,
   "metadata": {},
   "outputs": [],
   "source": [
    "forecast = scaler.inverse_transform(lst_output)"
   ]
  },
  {
   "cell_type": "code",
   "execution_count": 75,
   "metadata": {},
   "outputs": [
    {
     "data": {
      "text/plain": [
       "(30, 1)"
      ]
     },
     "execution_count": 75,
     "metadata": {},
     "output_type": "execute_result"
    }
   ],
   "source": [
    "forecast.shape"
   ]
  },
  {
   "cell_type": "code",
   "execution_count": 76,
   "metadata": {},
   "outputs": [],
   "source": [
    "forecast = forecast.reshape(30,)"
   ]
  },
  {
   "cell_type": "code",
   "execution_count": 77,
   "metadata": {},
   "outputs": [
    {
     "data": {
      "text/html": [
       "<div>\n",
       "<style scoped>\n",
       "    .dataframe tbody tr th:only-of-type {\n",
       "        vertical-align: middle;\n",
       "    }\n",
       "\n",
       "    .dataframe tbody tr th {\n",
       "        vertical-align: top;\n",
       "    }\n",
       "\n",
       "    .dataframe thead th {\n",
       "        text-align: right;\n",
       "    }\n",
       "</style>\n",
       "<table border=\"1\" class=\"dataframe\">\n",
       "  <thead>\n",
       "    <tr style=\"text-align: right;\">\n",
       "      <th></th>\n",
       "      <th>Value</th>\n",
       "      <th>Predicted Price</th>\n",
       "    </tr>\n",
       "    <tr>\n",
       "      <th>Date</th>\n",
       "      <th></th>\n",
       "      <th></th>\n",
       "    </tr>\n",
       "  </thead>\n",
       "  <tbody>\n",
       "    <tr>\n",
       "      <th>1987-10-07</th>\n",
       "      <td>18.58</td>\n",
       "      <td>18.472324</td>\n",
       "    </tr>\n",
       "    <tr>\n",
       "      <th>1987-10-08</th>\n",
       "      <td>18.63</td>\n",
       "      <td>18.481539</td>\n",
       "    </tr>\n",
       "    <tr>\n",
       "      <th>1987-10-09</th>\n",
       "      <td>18.60</td>\n",
       "      <td>18.487751</td>\n",
       "    </tr>\n",
       "    <tr>\n",
       "      <th>1987-10-12</th>\n",
       "      <td>18.55</td>\n",
       "      <td>18.489948</td>\n",
       "    </tr>\n",
       "    <tr>\n",
       "      <th>1987-10-13</th>\n",
       "      <td>18.55</td>\n",
       "      <td>18.485476</td>\n",
       "    </tr>\n",
       "    <tr>\n",
       "      <th>...</th>\n",
       "      <td>...</td>\n",
       "      <td>...</td>\n",
       "    </tr>\n",
       "    <tr>\n",
       "      <th>2023-11-14</th>\n",
       "      <td>84.20</td>\n",
       "      <td>82.754204</td>\n",
       "    </tr>\n",
       "    <tr>\n",
       "      <th>2023-11-15</th>\n",
       "      <td>82.40</td>\n",
       "      <td>83.200127</td>\n",
       "    </tr>\n",
       "    <tr>\n",
       "      <th>2023-11-16</th>\n",
       "      <td>77.73</td>\n",
       "      <td>83.487152</td>\n",
       "    </tr>\n",
       "    <tr>\n",
       "      <th>2023-11-17</th>\n",
       "      <td>81.22</td>\n",
       "      <td>82.598663</td>\n",
       "    </tr>\n",
       "    <tr>\n",
       "      <th>2023-11-20</th>\n",
       "      <td>83.25</td>\n",
       "      <td>81.776665</td>\n",
       "    </tr>\n",
       "  </tbody>\n",
       "</table>\n",
       "<p>9424 rows × 2 columns</p>\n",
       "</div>"
      ],
      "text/plain": [
       "            Value  Predicted Price\n",
       "Date                              \n",
       "1987-10-07  18.58        18.472324\n",
       "1987-10-08  18.63        18.481539\n",
       "1987-10-09  18.60        18.487751\n",
       "1987-10-12  18.55        18.489948\n",
       "1987-10-13  18.55        18.485476\n",
       "...           ...              ...\n",
       "2023-11-14  84.20        82.754204\n",
       "2023-11-15  82.40        83.200127\n",
       "2023-11-16  77.73        83.487152\n",
       "2023-11-17  81.22        82.598663\n",
       "2023-11-20  83.25        81.776665\n",
       "\n",
       "[9424 rows x 2 columns]"
      ]
     },
     "execution_count": 77,
     "metadata": {},
     "output_type": "execute_result"
    }
   ],
   "source": [
    "ddf"
   ]
  },
  {
   "cell_type": "code",
   "execution_count": null,
   "metadata": {},
   "outputs": [],
   "source": []
  },
  {
   "cell_type": "code",
   "execution_count": 78,
   "metadata": {},
   "outputs": [],
   "source": [
    "t_fut = pd.date_range('2023-11-21 00:00+00:00',periods=30)"
   ]
  },
  {
   "cell_type": "code",
   "execution_count": 79,
   "metadata": {},
   "outputs": [
    {
     "data": {
      "text/plain": [
       "DatetimeIndex(['2023-11-21 00:00:00+00:00', '2023-11-22 00:00:00+00:00',\n",
       "               '2023-11-23 00:00:00+00:00', '2023-11-24 00:00:00+00:00',\n",
       "               '2023-11-25 00:00:00+00:00', '2023-11-26 00:00:00+00:00',\n",
       "               '2023-11-27 00:00:00+00:00', '2023-11-28 00:00:00+00:00',\n",
       "               '2023-11-29 00:00:00+00:00', '2023-11-30 00:00:00+00:00',\n",
       "               '2023-12-01 00:00:00+00:00', '2023-12-02 00:00:00+00:00',\n",
       "               '2023-12-03 00:00:00+00:00', '2023-12-04 00:00:00+00:00',\n",
       "               '2023-12-05 00:00:00+00:00', '2023-12-06 00:00:00+00:00',\n",
       "               '2023-12-07 00:00:00+00:00', '2023-12-08 00:00:00+00:00',\n",
       "               '2023-12-09 00:00:00+00:00', '2023-12-10 00:00:00+00:00',\n",
       "               '2023-12-11 00:00:00+00:00', '2023-12-12 00:00:00+00:00',\n",
       "               '2023-12-13 00:00:00+00:00', '2023-12-14 00:00:00+00:00',\n",
       "               '2023-12-15 00:00:00+00:00', '2023-12-16 00:00:00+00:00',\n",
       "               '2023-12-17 00:00:00+00:00', '2023-12-18 00:00:00+00:00',\n",
       "               '2023-12-19 00:00:00+00:00', '2023-12-20 00:00:00+00:00'],\n",
       "              dtype='datetime64[ns, UTC]', freq='D')"
      ]
     },
     "execution_count": 79,
     "metadata": {},
     "output_type": "execute_result"
    }
   ],
   "source": [
    "t_fut"
   ]
  },
  {
   "cell_type": "code",
   "execution_count": 80,
   "metadata": {},
   "outputs": [],
   "source": [
    "dffor = pd.DataFrame({'Forecast Price':forecast},index = t_fut)"
   ]
  },
  {
   "cell_type": "code",
   "execution_count": 81,
   "metadata": {},
   "outputs": [
    {
     "data": {
      "text/plain": [
       "Forecast Price    83.815841\n",
       "Name: 2023-11-30 00:00:00+00:00, dtype: float64"
      ]
     },
     "execution_count": 81,
     "metadata": {},
     "output_type": "execute_result"
    }
   ],
   "source": [
    "dffor.loc['2023-12-29']"
   ]
  },
  {
   "cell_type": "code",
   "execution_count": 82,
   "metadata": {},
   "outputs": [
    {
     "data": {
      "text/html": [
       "<div>\n",
       "<style scoped>\n",
       "    .dataframe tbody tr th:only-of-type {\n",
       "        vertical-align: middle;\n",
       "    }\n",
       "\n",
       "    .dataframe tbody tr th {\n",
       "        vertical-align: top;\n",
       "    }\n",
       "\n",
       "    .dataframe thead th {\n",
       "        text-align: right;\n",
       "    }\n",
       "</style>\n",
       "<table border=\"1\" class=\"dataframe\">\n",
       "  <thead>\n",
       "    <tr style=\"text-align: right;\">\n",
       "      <th></th>\n",
       "      <th>Forecast Price</th>\n",
       "    </tr>\n",
       "  </thead>\n",
       "  <tbody>\n",
       "    <tr>\n",
       "      <th>2023-11-21 00:00:00+00:00</th>\n",
       "      <td>81.689440</td>\n",
       "    </tr>\n",
       "    <tr>\n",
       "      <th>2023-11-22 00:00:00+00:00</th>\n",
       "      <td>81.836568</td>\n",
       "    </tr>\n",
       "    <tr>\n",
       "      <th>2023-11-23 00:00:00+00:00</th>\n",
       "      <td>82.066884</td>\n",
       "    </tr>\n",
       "    <tr>\n",
       "      <th>2023-11-24 00:00:00+00:00</th>\n",
       "      <td>82.319997</td>\n",
       "    </tr>\n",
       "    <tr>\n",
       "      <th>2023-11-25 00:00:00+00:00</th>\n",
       "      <td>82.576811</td>\n",
       "    </tr>\n",
       "    <tr>\n",
       "      <th>2023-11-26 00:00:00+00:00</th>\n",
       "      <td>82.832449</td>\n",
       "    </tr>\n",
       "    <tr>\n",
       "      <th>2023-11-27 00:00:00+00:00</th>\n",
       "      <td>83.085268</td>\n",
       "    </tr>\n",
       "    <tr>\n",
       "      <th>2023-11-28 00:00:00+00:00</th>\n",
       "      <td>83.334002</td>\n",
       "    </tr>\n",
       "    <tr>\n",
       "      <th>2023-11-29 00:00:00+00:00</th>\n",
       "      <td>83.577647</td>\n",
       "    </tr>\n",
       "    <tr>\n",
       "      <th>2023-11-30 00:00:00+00:00</th>\n",
       "      <td>83.815841</td>\n",
       "    </tr>\n",
       "    <tr>\n",
       "      <th>2023-12-01 00:00:00+00:00</th>\n",
       "      <td>84.049044</td>\n",
       "    </tr>\n",
       "    <tr>\n",
       "      <th>2023-12-02 00:00:00+00:00</th>\n",
       "      <td>84.278441</td>\n",
       "    </tr>\n",
       "    <tr>\n",
       "      <th>2023-12-03 00:00:00+00:00</th>\n",
       "      <td>84.505736</td>\n",
       "    </tr>\n",
       "    <tr>\n",
       "      <th>2023-12-04 00:00:00+00:00</th>\n",
       "      <td>84.732917</td>\n",
       "    </tr>\n",
       "    <tr>\n",
       "      <th>2023-12-05 00:00:00+00:00</th>\n",
       "      <td>84.961979</td>\n",
       "    </tr>\n",
       "    <tr>\n",
       "      <th>2023-12-06 00:00:00+00:00</th>\n",
       "      <td>85.194808</td>\n",
       "    </tr>\n",
       "    <tr>\n",
       "      <th>2023-12-07 00:00:00+00:00</th>\n",
       "      <td>85.433033</td>\n",
       "    </tr>\n",
       "    <tr>\n",
       "      <th>2023-12-08 00:00:00+00:00</th>\n",
       "      <td>85.677937</td>\n",
       "    </tr>\n",
       "    <tr>\n",
       "      <th>2023-12-09 00:00:00+00:00</th>\n",
       "      <td>85.930461</td>\n",
       "    </tr>\n",
       "    <tr>\n",
       "      <th>2023-12-10 00:00:00+00:00</th>\n",
       "      <td>86.191196</td>\n",
       "    </tr>\n",
       "    <tr>\n",
       "      <th>2023-12-11 00:00:00+00:00</th>\n",
       "      <td>86.460369</td>\n",
       "    </tr>\n",
       "    <tr>\n",
       "      <th>2023-12-12 00:00:00+00:00</th>\n",
       "      <td>86.737965</td>\n",
       "    </tr>\n",
       "    <tr>\n",
       "      <th>2023-12-13 00:00:00+00:00</th>\n",
       "      <td>87.023716</td>\n",
       "    </tr>\n",
       "    <tr>\n",
       "      <th>2023-12-14 00:00:00+00:00</th>\n",
       "      <td>87.317194</td>\n",
       "    </tr>\n",
       "    <tr>\n",
       "      <th>2023-12-15 00:00:00+00:00</th>\n",
       "      <td>87.617854</td>\n",
       "    </tr>\n",
       "    <tr>\n",
       "      <th>2023-12-16 00:00:00+00:00</th>\n",
       "      <td>87.925080</td>\n",
       "    </tr>\n",
       "    <tr>\n",
       "      <th>2023-12-17 00:00:00+00:00</th>\n",
       "      <td>88.238272</td>\n",
       "    </tr>\n",
       "    <tr>\n",
       "      <th>2023-12-18 00:00:00+00:00</th>\n",
       "      <td>88.556829</td>\n",
       "    </tr>\n",
       "    <tr>\n",
       "      <th>2023-12-19 00:00:00+00:00</th>\n",
       "      <td>88.880224</td>\n",
       "    </tr>\n",
       "    <tr>\n",
       "      <th>2023-12-20 00:00:00+00:00</th>\n",
       "      <td>89.207979</td>\n",
       "    </tr>\n",
       "  </tbody>\n",
       "</table>\n",
       "</div>"
      ],
      "text/plain": [
       "                           Forecast Price\n",
       "2023-11-21 00:00:00+00:00       81.689440\n",
       "2023-11-22 00:00:00+00:00       81.836568\n",
       "2023-11-23 00:00:00+00:00       82.066884\n",
       "2023-11-24 00:00:00+00:00       82.319997\n",
       "2023-11-25 00:00:00+00:00       82.576811\n",
       "2023-11-26 00:00:00+00:00       82.832449\n",
       "2023-11-27 00:00:00+00:00       83.085268\n",
       "2023-11-28 00:00:00+00:00       83.334002\n",
       "2023-11-29 00:00:00+00:00       83.577647\n",
       "2023-11-30 00:00:00+00:00       83.815841\n",
       "2023-12-01 00:00:00+00:00       84.049044\n",
       "2023-12-02 00:00:00+00:00       84.278441\n",
       "2023-12-03 00:00:00+00:00       84.505736\n",
       "2023-12-04 00:00:00+00:00       84.732917\n",
       "2023-12-05 00:00:00+00:00       84.961979\n",
       "2023-12-06 00:00:00+00:00       85.194808\n",
       "2023-12-07 00:00:00+00:00       85.433033\n",
       "2023-12-08 00:00:00+00:00       85.677937\n",
       "2023-12-09 00:00:00+00:00       85.930461\n",
       "2023-12-10 00:00:00+00:00       86.191196\n",
       "2023-12-11 00:00:00+00:00       86.460369\n",
       "2023-12-12 00:00:00+00:00       86.737965\n",
       "2023-12-13 00:00:00+00:00       87.023716\n",
       "2023-12-14 00:00:00+00:00       87.317194\n",
       "2023-12-15 00:00:00+00:00       87.617854\n",
       "2023-12-16 00:00:00+00:00       87.925080\n",
       "2023-12-17 00:00:00+00:00       88.238272\n",
       "2023-12-18 00:00:00+00:00       88.556829\n",
       "2023-12-19 00:00:00+00:00       88.880224\n",
       "2023-12-20 00:00:00+00:00       89.207979"
      ]
     },
     "execution_count": 82,
     "metadata": {},
     "output_type": "execute_result"
    }
   ],
   "source": [
    "dffor"
   ]
  },
  {
   "cell_type": "code",
   "execution_count": 83,
   "metadata": {},
   "outputs": [
    {
     "data": {
      "text/plain": [
       "<matplotlib.legend.Legend at 0x2916ba8c110>"
      ]
     },
     "execution_count": 83,
     "metadata": {},
     "output_type": "execute_result"
    },
    {
     "data": {
      "image/png": "[encoded data removed]",
      "text/plain": [
       "<Figure size 1600x700 with 1 Axes>"
      ]
     },
     "metadata": {},
     "output_type": "display_data"
    }
   ],
   "source": [
    "plt.figure(figsize = (16,7))\n",
    "plt.grid(True)\n",
    "plt.title('Crude price Forecasting Training and Validation')\n",
    "plt.plot(df.index,df['Value'],label = \"Original Value\",c = 'blue')\n",
    "plt.plot(df[:train_predict.shape[0]+w].index,df['Predicted Price'][:train_predict.shape[0]+w],label = 'predicted training price',c = 'red')\n",
    "plt.plot(df.index[train_predict.shape[0]+100:],df['Predicted Price'][train_predict.shape[0]+w:],label = 'predicted validating price',c = 'green')\n",
    "\n",
    "plt.plot(dffor.index,dffor['Forecast Price'],label = 'Forecasted Price',c='black')\n",
    "\n",
    "plt.axvline(df.index[train_predict.shape[0]+w], color='black',lw=3)\n",
    "plt.axvline(dffor.index[0],color='black',lw=3)\n",
    "\n",
    "plt.legend()"
   ]
  },
  {
   "cell_type": "code",
   "execution_count": 84,
   "metadata": {},
   "outputs": [
    {
     "data": {
      "text/plain": [
       "Forecast Price    84.732917\n",
       "Name: 2023-12-04 00:00:00+00:00, dtype: float64"
      ]
     },
     "execution_count": 84,
     "metadata": {},
     "output_type": "execute_result"
    }
   ],
   "source": [
    "dffor.loc['2023-12-29']"
   ]
  },
  {
   "cell_type": "code",
   "execution_count": null,
   "metadata": {},
   "outputs": [],
   "source": []
  },
  {
   "cell_type": "code",
   "execution_count": null,
   "metadata": {},
   "outputs": [],
   "source": []
  },
  {
   "cell_type": "code",
   "execution_count": null,
   "metadata": {},
   "outputs": [],
   "source": []
  },
  {
   "cell_type": "code",
   "execution_count": null,
   "metadata": {},
   "outputs": [],
   "source": []
  },
  {
   "cell_type": "code",
   "execution_count": null,
   "metadata": {},
   "outputs": [],
   "source": []
  },
  {
   "cell_type": "code",
   "execution_count": null,
   "metadata": {},
   "outputs": [],
   "source": []
  }
 ],
 "metadata": {
  "accelerator": "GPU",
  "colab": {
   "gpuType": "T4",
   "provenance": []
  },
  "kernelspec": {
   "display_name": "Python 3 (ipykernel)",
   "language": "python",
   "name": "python3"
  },
  "language_info": {
   "codemirror_mode": {
    "name": "ipython",
    "version": 3
   },
   "file_extension": ".py",
   "mimetype": "text/x-python",
   "name": "python",
   "nbconvert_exporter": "python",
   "pygments_lexer": "ipython3",
   "version": "3.11.4"
  }
 },
 "nbformat": 4,
 "nbformat_minor": 1
}
